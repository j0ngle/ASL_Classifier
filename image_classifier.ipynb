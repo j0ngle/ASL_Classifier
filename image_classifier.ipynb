{
  "nbformat": 4,
  "nbformat_minor": 0,
  "metadata": {
    "colab": {
      "name": "image_classifier.ipynb",
      "provenance": [],
      "authorship_tag": "ABX9TyP+R26HfLVb86mO00sgFp4X",
      "include_colab_link": true
    },
    "kernelspec": {
      "name": "python3",
      "display_name": "Python 3"
    },
    "language_info": {
      "name": "python"
    }
  },
  "cells": [
    {
      "cell_type": "markdown",
      "metadata": {
        "id": "view-in-github",
        "colab_type": "text"
      },
      "source": [
        "<a href=\"https://colab.research.google.com/github/j0ngle/Machine-Learning-Projects/blob/main/image_classifier.ipynb\" target=\"_parent\"><img src=\"https://colab.research.google.com/assets/colab-badge.svg\" alt=\"Open In Colab\"/></a>"
      ]
    },
    {
      "cell_type": "markdown",
      "source": [
        "# Preparing our data\n",
        "\n",
        "We are going to build a simple image classifier based on the fashion_mnist dataset. fashion_mnist is a very popular toy dataset that has 10 unique classes:\n",
        "\n",
        "\n",
        "\n",
        "```\n",
        "['tshirt', 'trouser', 'pullover', 'dress', 'coat', 'sandal', 'shirt', 'sneaker', 'bag', 'ankle boot']\n",
        "```\n",
        "\n",
        "\n",
        "Let's start by downloading the data using: `keras.datasets.fashion_mnist.load_data()`\n",
        "\n",
        "Below, `train_images` will refer to the images we are going to use to train our neural network. Similarly `test_images` will be the ones we use to test it after training. `train_labels` and `test_labels` are the labels associated with each image. These are represented as integers which are used to index the `classes` list containing the actual label names.\n",
        "\n",
        "We'll use the `shape` attribute to find out a bit more information on our data"
      ],
      "metadata": {
        "id": "9e3OwEkspYPC"
      }
    },
    {
      "cell_type": "code",
      "execution_count": null,
      "metadata": {
        "colab": {
          "base_uri": "https://localhost:8080/"
        },
        "id": "AiEF13jGouGp",
        "outputId": "3421009c-4453-416d-aa89-0c14700d801e"
      },
      "outputs": [
        {
          "output_type": "stream",
          "name": "stdout",
          "text": [
            "Train images: (60000, 28, 28)\n",
            "Train labels: (60000,)\n",
            "Test images: (10000, 28, 28)\n",
            "Test labels: (10000,)\n"
          ]
        }
      ],
      "source": [
        "import tensorflow as tf\n",
        "from tensorflow import keras\n",
        "import numpy as np\n",
        "\n",
        "(train_images, train_labels), (test_images, test_labels) = keras.datasets.fashion_mnist.load_data()\n",
        "\n",
        "print(\"Train images:\", train_images.shape)\n",
        "print(\"Train labels:\", train_labels.shape)\n",
        "print(\"Test images:\", test_images.shape)\n",
        "print(\"Test labels:\", test_labels.shape)\n",
        "\n",
        "classes = ['tshirt', 'trouser', 'pullover', 'dress', 'coat', 'sandal', 'shirt', 'sneaker', 'bag', 'ankle boot']"
      ]
    },
    {
      "cell_type": "markdown",
      "source": [
        "You'll notice that there are 60000 training images, each of which are 28x28 pixels. There are also 60000 training labels indicating that we have a label for each image in the dataset\n",
        "\n",
        "---\n",
        "\n",
        "There are two ways to store images on a computer: grayscale and rgb. The ones we are working with today are grayscale.\n",
        "\n",
        "What's the difference?\n",
        "\n",
        "Each pixel in an RGB image is stored as a list of three numbers `[R, G, B]`, where each index represents the intensity of the red, green, and blue value respectively.\n",
        "\n",
        "Grayscale images don't need as much information. Instead of saving the intensity of the red, green, and blue values we can instead store the brightness of each pixel. So instead of each pixel being stored as a 3 element list it can be stored as a single number that represents its brightness."
      ],
      "metadata": {
        "id": "dNXoEGfgqZDo"
      }
    },
    {
      "cell_type": "markdown",
      "source": [
        "Now, there is one last preprocessing step we must finish. \n",
        "\n",
        "Pixel intensities are stored as a number between 0-255, where 255 represents the most intense value. Neural networks tend to like when values are somewhere between 0-1, so we can \"normalize\" our images to convert the values to something that our network will like. \n",
        "\n",
        "We can do this by simply dividing every pixel by 255. I'll go ahead and print out the pixel values before and after I do this so you can see the difference"
      ],
      "metadata": {
        "id": "xh32raj_tUV7"
      }
    },
    {
      "cell_type": "code",
      "source": [
        "print(\"Before normalization\")\n",
        "print(train_images[0])\n",
        "\n",
        "train_images = train_images / 255\n",
        "test_images = test_images / 255\n",
        "\n",
        "print(\"After normalization\")\n",
        "print(train_images[0])"
      ],
      "metadata": {
        "colab": {
          "base_uri": "https://localhost:8080/"
        },
        "id": "F096oCLPtlsn",
        "outputId": "2fe41ef9-3562-4cbe-aa60-5cc54943c32c"
      },
      "execution_count": null,
      "outputs": [
        {
          "output_type": "stream",
          "name": "stdout",
          "text": [
            "Before normalization\n",
            "[[  0   0   0   0   0   0   0   0   0   0   0   0   0   0   0   0   0   0\n",
            "    0   0   0   0   0   0   0   0   0   0]\n",
            " [  0   0   0   0   0   0   0   0   0   0   0   0   0   0   0   0   0   0\n",
            "    0   0   0   0   0   0   0   0   0   0]\n",
            " [  0   0   0   0   0   0   0   0   0   0   0   0   0   0   0   0   0   0\n",
            "    0   0   0   0   0   0   0   0   0   0]\n",
            " [  0   0   0   0   0   0   0   0   0   0   0   0   1   0   0  13  73   0\n",
            "    0   1   4   0   0   0   0   1   1   0]\n",
            " [  0   0   0   0   0   0   0   0   0   0   0   0   3   0  36 136 127  62\n",
            "   54   0   0   0   1   3   4   0   0   3]\n",
            " [  0   0   0   0   0   0   0   0   0   0   0   0   6   0 102 204 176 134\n",
            "  144 123  23   0   0   0   0  12  10   0]\n",
            " [  0   0   0   0   0   0   0   0   0   0   0   0   0   0 155 236 207 178\n",
            "  107 156 161 109  64  23  77 130  72  15]\n",
            " [  0   0   0   0   0   0   0   0   0   0   0   1   0  69 207 223 218 216\n",
            "  216 163 127 121 122 146 141  88 172  66]\n",
            " [  0   0   0   0   0   0   0   0   0   1   1   1   0 200 232 232 233 229\n",
            "  223 223 215 213 164 127 123 196 229   0]\n",
            " [  0   0   0   0   0   0   0   0   0   0   0   0   0 183 225 216 223 228\n",
            "  235 227 224 222 224 221 223 245 173   0]\n",
            " [  0   0   0   0   0   0   0   0   0   0   0   0   0 193 228 218 213 198\n",
            "  180 212 210 211 213 223 220 243 202   0]\n",
            " [  0   0   0   0   0   0   0   0   0   1   3   0  12 219 220 212 218 192\n",
            "  169 227 208 218 224 212 226 197 209  52]\n",
            " [  0   0   0   0   0   0   0   0   0   0   6   0  99 244 222 220 218 203\n",
            "  198 221 215 213 222 220 245 119 167  56]\n",
            " [  0   0   0   0   0   0   0   0   0   4   0   0  55 236 228 230 228 240\n",
            "  232 213 218 223 234 217 217 209  92   0]\n",
            " [  0   0   1   4   6   7   2   0   0   0   0   0 237 226 217 223 222 219\n",
            "  222 221 216 223 229 215 218 255  77   0]\n",
            " [  0   3   0   0   0   0   0   0   0  62 145 204 228 207 213 221 218 208\n",
            "  211 218 224 223 219 215 224 244 159   0]\n",
            " [  0   0   0   0  18  44  82 107 189 228 220 222 217 226 200 205 211 230\n",
            "  224 234 176 188 250 248 233 238 215   0]\n",
            " [  0  57 187 208 224 221 224 208 204 214 208 209 200 159 245 193 206 223\n",
            "  255 255 221 234 221 211 220 232 246   0]\n",
            " [  3 202 228 224 221 211 211 214 205 205 205 220 240  80 150 255 229 221\n",
            "  188 154 191 210 204 209 222 228 225   0]\n",
            " [ 98 233 198 210 222 229 229 234 249 220 194 215 217 241  65  73 106 117\n",
            "  168 219 221 215 217 223 223 224 229  29]\n",
            " [ 75 204 212 204 193 205 211 225 216 185 197 206 198 213 240 195 227 245\n",
            "  239 223 218 212 209 222 220 221 230  67]\n",
            " [ 48 203 183 194 213 197 185 190 194 192 202 214 219 221 220 236 225 216\n",
            "  199 206 186 181 177 172 181 205 206 115]\n",
            " [  0 122 219 193 179 171 183 196 204 210 213 207 211 210 200 196 194 191\n",
            "  195 191 198 192 176 156 167 177 210  92]\n",
            " [  0   0  74 189 212 191 175 172 175 181 185 188 189 188 193 198 204 209\n",
            "  210 210 211 188 188 194 192 216 170   0]\n",
            " [  2   0   0   0  66 200 222 237 239 242 246 243 244 221 220 193 191 179\n",
            "  182 182 181 176 166 168  99  58   0   0]\n",
            " [  0   0   0   0   0   0   0  40  61  44  72  41  35   0   0   0   0   0\n",
            "    0   0   0   0   0   0   0   0   0   0]\n",
            " [  0   0   0   0   0   0   0   0   0   0   0   0   0   0   0   0   0   0\n",
            "    0   0   0   0   0   0   0   0   0   0]\n",
            " [  0   0   0   0   0   0   0   0   0   0   0   0   0   0   0   0   0   0\n",
            "    0   0   0   0   0   0   0   0   0   0]]\n",
            "After normalization\n",
            "[[0.         0.         0.         0.         0.         0.\n",
            "  0.         0.         0.         0.         0.         0.\n",
            "  0.         0.         0.         0.         0.         0.\n",
            "  0.         0.         0.         0.         0.         0.\n",
            "  0.         0.         0.         0.        ]\n",
            " [0.         0.         0.         0.         0.         0.\n",
            "  0.         0.         0.         0.         0.         0.\n",
            "  0.         0.         0.         0.         0.         0.\n",
            "  0.         0.         0.         0.         0.         0.\n",
            "  0.         0.         0.         0.        ]\n",
            " [0.         0.         0.         0.         0.         0.\n",
            "  0.         0.         0.         0.         0.         0.\n",
            "  0.         0.         0.         0.         0.         0.\n",
            "  0.         0.         0.         0.         0.         0.\n",
            "  0.         0.         0.         0.        ]\n",
            " [0.         0.         0.         0.         0.         0.\n",
            "  0.         0.         0.         0.         0.         0.\n",
            "  0.00392157 0.         0.         0.05098039 0.28627451 0.\n",
            "  0.         0.00392157 0.01568627 0.         0.         0.\n",
            "  0.         0.00392157 0.00392157 0.        ]\n",
            " [0.         0.         0.         0.         0.         0.\n",
            "  0.         0.         0.         0.         0.         0.\n",
            "  0.01176471 0.         0.14117647 0.53333333 0.49803922 0.24313725\n",
            "  0.21176471 0.         0.         0.         0.00392157 0.01176471\n",
            "  0.01568627 0.         0.         0.01176471]\n",
            " [0.         0.         0.         0.         0.         0.\n",
            "  0.         0.         0.         0.         0.         0.\n",
            "  0.02352941 0.         0.4        0.8        0.69019608 0.5254902\n",
            "  0.56470588 0.48235294 0.09019608 0.         0.         0.\n",
            "  0.         0.04705882 0.03921569 0.        ]\n",
            " [0.         0.         0.         0.         0.         0.\n",
            "  0.         0.         0.         0.         0.         0.\n",
            "  0.         0.         0.60784314 0.9254902  0.81176471 0.69803922\n",
            "  0.41960784 0.61176471 0.63137255 0.42745098 0.25098039 0.09019608\n",
            "  0.30196078 0.50980392 0.28235294 0.05882353]\n",
            " [0.         0.         0.         0.         0.         0.\n",
            "  0.         0.         0.         0.         0.         0.00392157\n",
            "  0.         0.27058824 0.81176471 0.8745098  0.85490196 0.84705882\n",
            "  0.84705882 0.63921569 0.49803922 0.4745098  0.47843137 0.57254902\n",
            "  0.55294118 0.34509804 0.6745098  0.25882353]\n",
            " [0.         0.         0.         0.         0.         0.\n",
            "  0.         0.         0.         0.00392157 0.00392157 0.00392157\n",
            "  0.         0.78431373 0.90980392 0.90980392 0.91372549 0.89803922\n",
            "  0.8745098  0.8745098  0.84313725 0.83529412 0.64313725 0.49803922\n",
            "  0.48235294 0.76862745 0.89803922 0.        ]\n",
            " [0.         0.         0.         0.         0.         0.\n",
            "  0.         0.         0.         0.         0.         0.\n",
            "  0.         0.71764706 0.88235294 0.84705882 0.8745098  0.89411765\n",
            "  0.92156863 0.89019608 0.87843137 0.87058824 0.87843137 0.86666667\n",
            "  0.8745098  0.96078431 0.67843137 0.        ]\n",
            " [0.         0.         0.         0.         0.         0.\n",
            "  0.         0.         0.         0.         0.         0.\n",
            "  0.         0.75686275 0.89411765 0.85490196 0.83529412 0.77647059\n",
            "  0.70588235 0.83137255 0.82352941 0.82745098 0.83529412 0.8745098\n",
            "  0.8627451  0.95294118 0.79215686 0.        ]\n",
            " [0.         0.         0.         0.         0.         0.\n",
            "  0.         0.         0.         0.00392157 0.01176471 0.\n",
            "  0.04705882 0.85882353 0.8627451  0.83137255 0.85490196 0.75294118\n",
            "  0.6627451  0.89019608 0.81568627 0.85490196 0.87843137 0.83137255\n",
            "  0.88627451 0.77254902 0.81960784 0.20392157]\n",
            " [0.         0.         0.         0.         0.         0.\n",
            "  0.         0.         0.         0.         0.02352941 0.\n",
            "  0.38823529 0.95686275 0.87058824 0.8627451  0.85490196 0.79607843\n",
            "  0.77647059 0.86666667 0.84313725 0.83529412 0.87058824 0.8627451\n",
            "  0.96078431 0.46666667 0.65490196 0.21960784]\n",
            " [0.         0.         0.         0.         0.         0.\n",
            "  0.         0.         0.         0.01568627 0.         0.\n",
            "  0.21568627 0.9254902  0.89411765 0.90196078 0.89411765 0.94117647\n",
            "  0.90980392 0.83529412 0.85490196 0.8745098  0.91764706 0.85098039\n",
            "  0.85098039 0.81960784 0.36078431 0.        ]\n",
            " [0.         0.         0.00392157 0.01568627 0.02352941 0.02745098\n",
            "  0.00784314 0.         0.         0.         0.         0.\n",
            "  0.92941176 0.88627451 0.85098039 0.8745098  0.87058824 0.85882353\n",
            "  0.87058824 0.86666667 0.84705882 0.8745098  0.89803922 0.84313725\n",
            "  0.85490196 1.         0.30196078 0.        ]\n",
            " [0.         0.01176471 0.         0.         0.         0.\n",
            "  0.         0.         0.         0.24313725 0.56862745 0.8\n",
            "  0.89411765 0.81176471 0.83529412 0.86666667 0.85490196 0.81568627\n",
            "  0.82745098 0.85490196 0.87843137 0.8745098  0.85882353 0.84313725\n",
            "  0.87843137 0.95686275 0.62352941 0.        ]\n",
            " [0.         0.         0.         0.         0.07058824 0.17254902\n",
            "  0.32156863 0.41960784 0.74117647 0.89411765 0.8627451  0.87058824\n",
            "  0.85098039 0.88627451 0.78431373 0.80392157 0.82745098 0.90196078\n",
            "  0.87843137 0.91764706 0.69019608 0.7372549  0.98039216 0.97254902\n",
            "  0.91372549 0.93333333 0.84313725 0.        ]\n",
            " [0.         0.22352941 0.73333333 0.81568627 0.87843137 0.86666667\n",
            "  0.87843137 0.81568627 0.8        0.83921569 0.81568627 0.81960784\n",
            "  0.78431373 0.62352941 0.96078431 0.75686275 0.80784314 0.8745098\n",
            "  1.         1.         0.86666667 0.91764706 0.86666667 0.82745098\n",
            "  0.8627451  0.90980392 0.96470588 0.        ]\n",
            " [0.01176471 0.79215686 0.89411765 0.87843137 0.86666667 0.82745098\n",
            "  0.82745098 0.83921569 0.80392157 0.80392157 0.80392157 0.8627451\n",
            "  0.94117647 0.31372549 0.58823529 1.         0.89803922 0.86666667\n",
            "  0.7372549  0.60392157 0.74901961 0.82352941 0.8        0.81960784\n",
            "  0.87058824 0.89411765 0.88235294 0.        ]\n",
            " [0.38431373 0.91372549 0.77647059 0.82352941 0.87058824 0.89803922\n",
            "  0.89803922 0.91764706 0.97647059 0.8627451  0.76078431 0.84313725\n",
            "  0.85098039 0.94509804 0.25490196 0.28627451 0.41568627 0.45882353\n",
            "  0.65882353 0.85882353 0.86666667 0.84313725 0.85098039 0.8745098\n",
            "  0.8745098  0.87843137 0.89803922 0.11372549]\n",
            " [0.29411765 0.8        0.83137255 0.8        0.75686275 0.80392157\n",
            "  0.82745098 0.88235294 0.84705882 0.7254902  0.77254902 0.80784314\n",
            "  0.77647059 0.83529412 0.94117647 0.76470588 0.89019608 0.96078431\n",
            "  0.9372549  0.8745098  0.85490196 0.83137255 0.81960784 0.87058824\n",
            "  0.8627451  0.86666667 0.90196078 0.2627451 ]\n",
            " [0.18823529 0.79607843 0.71764706 0.76078431 0.83529412 0.77254902\n",
            "  0.7254902  0.74509804 0.76078431 0.75294118 0.79215686 0.83921569\n",
            "  0.85882353 0.86666667 0.8627451  0.9254902  0.88235294 0.84705882\n",
            "  0.78039216 0.80784314 0.72941176 0.70980392 0.69411765 0.6745098\n",
            "  0.70980392 0.80392157 0.80784314 0.45098039]\n",
            " [0.         0.47843137 0.85882353 0.75686275 0.70196078 0.67058824\n",
            "  0.71764706 0.76862745 0.8        0.82352941 0.83529412 0.81176471\n",
            "  0.82745098 0.82352941 0.78431373 0.76862745 0.76078431 0.74901961\n",
            "  0.76470588 0.74901961 0.77647059 0.75294118 0.69019608 0.61176471\n",
            "  0.65490196 0.69411765 0.82352941 0.36078431]\n",
            " [0.         0.         0.29019608 0.74117647 0.83137255 0.74901961\n",
            "  0.68627451 0.6745098  0.68627451 0.70980392 0.7254902  0.7372549\n",
            "  0.74117647 0.7372549  0.75686275 0.77647059 0.8        0.81960784\n",
            "  0.82352941 0.82352941 0.82745098 0.7372549  0.7372549  0.76078431\n",
            "  0.75294118 0.84705882 0.66666667 0.        ]\n",
            " [0.00784314 0.         0.         0.         0.25882353 0.78431373\n",
            "  0.87058824 0.92941176 0.9372549  0.94901961 0.96470588 0.95294118\n",
            "  0.95686275 0.86666667 0.8627451  0.75686275 0.74901961 0.70196078\n",
            "  0.71372549 0.71372549 0.70980392 0.69019608 0.65098039 0.65882353\n",
            "  0.38823529 0.22745098 0.         0.        ]\n",
            " [0.         0.         0.         0.         0.         0.\n",
            "  0.         0.15686275 0.23921569 0.17254902 0.28235294 0.16078431\n",
            "  0.1372549  0.         0.         0.         0.         0.\n",
            "  0.         0.         0.         0.         0.         0.\n",
            "  0.         0.         0.         0.        ]\n",
            " [0.         0.         0.         0.         0.         0.\n",
            "  0.         0.         0.         0.         0.         0.\n",
            "  0.         0.         0.         0.         0.         0.\n",
            "  0.         0.         0.         0.         0.         0.\n",
            "  0.         0.         0.         0.        ]\n",
            " [0.         0.         0.         0.         0.         0.\n",
            "  0.         0.         0.         0.         0.         0.\n",
            "  0.         0.         0.         0.         0.         0.\n",
            "  0.         0.         0.         0.         0.         0.\n",
            "  0.         0.         0.         0.        ]]\n"
          ]
        }
      ]
    },
    {
      "cell_type": "markdown",
      "source": [
        "Now we are ready to build our neural network!\n",
        "\n",
        "But before we do that, let's write a function that will help us visualize our results better. Here we are going to plot each pixel in our image on a graph and display its correct label underneath.\n",
        "\n",
        "To do this we'll need `matplotlib.pyplot`\n",
        "\n",
        "Remember that when displaying our label, simply accessing `train_labels` will give us the integer representation of the label. In order to get the text we will need to use that to index into the `classes` list we made before"
      ],
      "metadata": {
        "id": "woHNrsLUuHIt"
      }
    },
    {
      "cell_type": "code",
      "source": [
        "import matplotlib.pyplot as plt\n",
        "\n",
        "def show_image(img, label):\n",
        "  plt.imshow(img, cmap='binary')\n",
        "  plt.axis('off')\n",
        "  plt.show()\n",
        "  print(\"Label:\", label)\n",
        "\n",
        "show_image(train_images[0], classes[train_labels[0]])"
      ],
      "metadata": {
        "colab": {
          "base_uri": "https://localhost:8080/",
          "height": 265
        },
        "id": "ZqI2xvKnuGhH",
        "outputId": "acc578c7-c6a8-49de-eeb4-d697018d3e04"
      },
      "execution_count": null,
      "outputs": [
        {
          "output_type": "display_data",
          "data": {
            "text/plain": [
              "<Figure size 432x288 with 1 Axes>"
            ],
            "image/png": "[encoded data removed]"
          },
          "metadata": {
            "needs_background": "light"
          }
        },
        {
          "output_type": "stream",
          "name": "stdout",
          "text": [
            "Label: ankle boot\n"
          ]
        }
      ]
    },
    {
      "cell_type": "markdown",
      "source": [
        "# Let's build the model"
      ],
      "metadata": {
        "id": "PRPHF0NPxkwi"
      }
    },
    {
      "cell_type": "markdown",
      "source": [
        "Here we are going to build the model. Before we do that, we need to establish what everything is and what it's doing.\n",
        "\n",
        "`models.keras.Sequential` - Defines the Sequential API. This just says we are going to pass our data straight through the network and that we aren't going to need the ability to send it our of order at all. It takes a `list` of layers as its input.\n",
        "\n",
        "`keras.layers.Flatten` - Our images are stored as 2D arrays of pixels, but our neural network is expecting a 1D array. This layer takes care of converting out picture into a single array to be passed into the next layer\n",
        "\n",
        "`keras.layers.Dense` - This is the most basic layer. It is a simply fully connected layer, meaning the output of every neuron in a layer is mapped to every neuron in the next layer\n",
        "\n",
        "ReLU and Softmax - Common activation functions used in most networks\n",
        "\n",
        "To define the model, we simply pass in a list of our layers. You can probably gather what all the inputs mean. For the most part the number of neurons we choose for each layer is aribtrary with the exception being the output layer. \n",
        "\n",
        "The output *must* have the same number of neurons as we have possible output classes. In the case of the fashion mnist dataset we have 10"
      ],
      "metadata": {
        "id": "SI3DQ1iLxrCD"
      }
    },
    {
      "cell_type": "code",
      "source": [
        "# We'll start by creating a list of our layers in the order that we want \n",
        "# the info to be passed through them\n",
        "layers = [keras.layers.Flatten(input_shape=[28, 28]),\n",
        "          keras.layers.Dense(300, activation='relu'),\n",
        "          keras.layers.Dense(100, activation='relu'),\n",
        "          keras.layers.Dense(10, activation='softmax')]\n",
        "\n",
        "# Now let's pass our layers as the input to the model\n",
        "model = keras.models.Sequential(layers)"
      ],
      "metadata": {
        "id": "3C-JPYJ2utUv"
      },
      "execution_count": null,
      "outputs": []
    },
    {
      "cell_type": "markdown",
      "source": [
        "We can use `summary()` to show the details of all the layers"
      ],
      "metadata": {
        "id": "WiUdQCEuyoTW"
      }
    },
    {
      "cell_type": "code",
      "source": [
        "print(model.summary())"
      ],
      "metadata": {
        "colab": {
          "base_uri": "https://localhost:8080/"
        },
        "id": "Y_F4yf0wysVy",
        "outputId": "bcd42481-6e41-41d0-a40d-b504da5b0f54"
      },
      "execution_count": null,
      "outputs": [
        {
          "output_type": "stream",
          "name": "stdout",
          "text": [
            "Model: \"sequential\"\n",
            "_________________________________________________________________\n",
            " Layer (type)                Output Shape              Param #   \n",
            "=================================================================\n",
            " flatten (Flatten)           (None, 784)               0         \n",
            "                                                                 \n",
            " dense (Dense)               (None, 300)               235500    \n",
            "                                                                 \n",
            " dense_1 (Dense)             (None, 100)               30100     \n",
            "                                                                 \n",
            " dense_2 (Dense)             (None, 10)                1010      \n",
            "                                                                 \n",
            "=================================================================\n",
            "Total params: 266,610\n",
            "Trainable params: 266,610\n",
            "Non-trainable params: 0\n",
            "_________________________________________________________________\n",
            "None\n"
          ]
        }
      ]
    },
    {
      "cell_type": "markdown",
      "source": [
        "`.compile()` is used to prep our network for training. Here we define our loss function, optimizer, and desired metrics.\n",
        "\n",
        "sparse_categorical_crossentropy - let's break this down. \"Crossentropy\" is a type of loss function which essentially figured out the distance our output is from the correct answer. \"categorical\" suggests we are working with numberical labels which corespond with some category list. By default, categorical crossentropy expects your inputs to be one-hot encoded. Ours are not. Thus we need to specific that our intputs are \"sparse\"\n",
        "\n",
        "one-hot encoding - If I remember correctly it works like this. Lets say we have n=4 possible categories (for simplicity). As it stands our labels are numbers that represent each of the 4 outputs. So we could get either a 1, 2, 3, or 4 as output. One-hot converts this into an array with length = n. Now it's a binary problem. So our four options are [1, 0, 0, 0], [0, 1, 0, 0], [0, 0, 1, 0], or [0, 0, 0, 1]\n",
        "\n",
        "sgd - You don't need to worry about what this is, but if you are interested, it is an optimization technique called \"gradient descent\" and is brought up the the powerpoint called \"Exta info\" in the folder that was sent to you :)"
      ],
      "metadata": {
        "id": "pnxOlVpqyy8V"
      }
    },
    {
      "cell_type": "code",
      "source": [
        "model.compile(loss=\"sparse_categorical_crossentropy\",\n",
        "              optimizer=\"sgd\",\n",
        "              metrics=[\"accuracy\"])"
      ],
      "metadata": {
        "id": "rg4S4kOUywYc"
      },
      "execution_count": null,
      "outputs": []
    },
    {
      "cell_type": "markdown",
      "source": [
        "`.fit` just starts the training loop. We pass in our training set, x_train, and our training labels, y_train\n",
        "\n",
        "epochs - Essentially the amount of times we are going to loop through the whole training loop. So here we are going to run through all of the images 30 times.\n",
        "\n",
        "validation_split - During training, it is generally bad to test your results with your testing set. Once the model has seen the image in the test set it can end up having a bias toward those images because it's seen them before. Instead, we can use this to create what's called a \"validation set\". This is just a subset of our training set used for periodic testing to give us feedback on what's going on. It serves as a good estimate of how it'll perform on the testing set without spoiling the test set itself"
      ],
      "metadata": {
        "id": "9qSYuPF7zZbN"
      }
    },
    {
      "cell_type": "code",
      "source": [
        "history = model.fit(train_images, train_labels, \n",
        "                    epochs=20,\n",
        "                    validation_split=0.08)"
      ],
      "metadata": {
        "colab": {
          "base_uri": "https://localhost:8080/"
        },
        "id": "D3Na0vK7zcU7",
        "outputId": "0d1eec44-4239-49bf-cb43-61ba1e3f8c86"
      },
      "execution_count": null,
      "outputs": [
        {
          "output_type": "stream",
          "name": "stdout",
          "text": [
            "Epoch 1/30\n",
            "1725/1725 [==============================] - 9s 5ms/step - loss: 0.7272 - accuracy: 0.7631 - val_loss: 0.5341 - val_accuracy: 0.8146\n",
            "Epoch 2/30\n",
            "1725/1725 [==============================] - 9s 5ms/step - loss: 0.4911 - accuracy: 0.8305 - val_loss: 0.4687 - val_accuracy: 0.8310\n",
            "Epoch 3/30\n",
            "1725/1725 [==============================] - 8s 5ms/step - loss: 0.4458 - accuracy: 0.8436 - val_loss: 0.4158 - val_accuracy: 0.8515\n",
            "Epoch 4/30\n",
            "1725/1725 [==============================] - 8s 5ms/step - loss: 0.4179 - accuracy: 0.8534 - val_loss: 0.4047 - val_accuracy: 0.8535\n",
            "Epoch 5/30\n",
            "1725/1725 [==============================] - 8s 5ms/step - loss: 0.3982 - accuracy: 0.8612 - val_loss: 0.3964 - val_accuracy: 0.8592\n",
            "Epoch 6/30\n",
            "1725/1725 [==============================] - 8s 5ms/step - loss: 0.3811 - accuracy: 0.8656 - val_loss: 0.3742 - val_accuracy: 0.8604\n",
            "Epoch 7/30\n",
            "1725/1725 [==============================] - 8s 5ms/step - loss: 0.3675 - accuracy: 0.8706 - val_loss: 0.3817 - val_accuracy: 0.8585\n",
            "Epoch 8/30\n",
            "1725/1725 [==============================] - 9s 5ms/step - loss: 0.3549 - accuracy: 0.8746 - val_loss: 0.3858 - val_accuracy: 0.8569\n",
            "Epoch 9/30\n",
            "1725/1725 [==============================] - 8s 5ms/step - loss: 0.3445 - accuracy: 0.8782 - val_loss: 0.3568 - val_accuracy: 0.8694\n",
            "Epoch 10/30\n",
            "1725/1725 [==============================] - 8s 5ms/step - loss: 0.3347 - accuracy: 0.8815 - val_loss: 0.3478 - val_accuracy: 0.8744\n",
            "Epoch 11/30\n",
            "1725/1725 [==============================] - 9s 5ms/step - loss: 0.3256 - accuracy: 0.8838 - val_loss: 0.3716 - val_accuracy: 0.8635\n",
            "Epoch 12/30\n",
            "1725/1725 [==============================] - 8s 5ms/step - loss: 0.3173 - accuracy: 0.8866 - val_loss: 0.3405 - val_accuracy: 0.8756\n",
            "Epoch 13/30\n",
            "1725/1725 [==============================] - 8s 5ms/step - loss: 0.3094 - accuracy: 0.8893 - val_loss: 0.3558 - val_accuracy: 0.8712\n",
            "Epoch 14/30\n",
            "1725/1725 [==============================] - 8s 5ms/step - loss: 0.3034 - accuracy: 0.8918 - val_loss: 0.3446 - val_accuracy: 0.8756\n",
            "Epoch 15/30\n",
            "1725/1725 [==============================] - 8s 5ms/step - loss: 0.2970 - accuracy: 0.8937 - val_loss: 0.3318 - val_accuracy: 0.8779\n",
            "Epoch 16/30\n",
            "1725/1725 [==============================] - 8s 5ms/step - loss: 0.2903 - accuracy: 0.8959 - val_loss: 0.3405 - val_accuracy: 0.8737\n",
            "Epoch 17/30\n",
            "1725/1725 [==============================] - 8s 5ms/step - loss: 0.2835 - accuracy: 0.8985 - val_loss: 0.3350 - val_accuracy: 0.8777\n",
            "Epoch 18/30\n",
            "1725/1725 [==============================] - 8s 5ms/step - loss: 0.2777 - accuracy: 0.9002 - val_loss: 0.3252 - val_accuracy: 0.8823\n",
            "Epoch 19/30\n",
            "1725/1725 [==============================] - 8s 5ms/step - loss: 0.2728 - accuracy: 0.9022 - val_loss: 0.3260 - val_accuracy: 0.8810\n",
            "Epoch 20/30\n",
            "1725/1725 [==============================] - 8s 5ms/step - loss: 0.2678 - accuracy: 0.9041 - val_loss: 0.3367 - val_accuracy: 0.8800\n",
            "Epoch 21/30\n",
            "1725/1725 [==============================] - 8s 5ms/step - loss: 0.2624 - accuracy: 0.9062 - val_loss: 0.3538 - val_accuracy: 0.8717\n",
            "Epoch 22/30\n",
            "1725/1725 [==============================] - 8s 5ms/step - loss: 0.2584 - accuracy: 0.9058 - val_loss: 0.3189 - val_accuracy: 0.8844\n",
            "Epoch 23/30\n",
            "1725/1725 [==============================] - 8s 5ms/step - loss: 0.2533 - accuracy: 0.9088 - val_loss: 0.3134 - val_accuracy: 0.8865\n",
            "Epoch 24/30\n",
            "1725/1725 [==============================] - 8s 5ms/step - loss: 0.2491 - accuracy: 0.9114 - val_loss: 0.3169 - val_accuracy: 0.8863\n",
            "Epoch 25/30\n",
            "1725/1725 [==============================] - 11s 7ms/step - loss: 0.2445 - accuracy: 0.9113 - val_loss: 0.3308 - val_accuracy: 0.8810\n",
            "Epoch 26/30\n",
            "1725/1725 [==============================] - 13s 7ms/step - loss: 0.2407 - accuracy: 0.9135 - val_loss: 0.3069 - val_accuracy: 0.8858\n",
            "Epoch 27/30\n",
            "1725/1725 [==============================] - 8s 5ms/step - loss: 0.2371 - accuracy: 0.9147 - val_loss: 0.3128 - val_accuracy: 0.8838\n",
            "Epoch 28/30\n",
            "1725/1725 [==============================] - 8s 5ms/step - loss: 0.2324 - accuracy: 0.9172 - val_loss: 0.3124 - val_accuracy: 0.8885\n",
            "Epoch 29/30\n",
            "1725/1725 [==============================] - 9s 5ms/step - loss: 0.2287 - accuracy: 0.9171 - val_loss: 0.3169 - val_accuracy: 0.8885\n",
            "Epoch 30/30\n",
            "1725/1725 [==============================] - 8s 5ms/step - loss: 0.2252 - accuracy: 0.9188 - val_loss: 0.3321 - val_accuracy: 0.8785\n"
          ]
        }
      ]
    },
    {
      "cell_type": "markdown",
      "source": [
        "Notice the variable name we stored the results in, `history`. \n",
        "\n",
        "History is a neat thing with Keras that automatically saves the results from each epoch. So here we can create a datafrom from the history and plot it.\n",
        "\n",
        "We would expect the loss to decline overtime and the accuracy to increase.\n",
        "\n",
        "When analyzing graphs be sure to keep convergence in mind. If you don't know what convergence means it's basically just the graph gradually getting closer and closer to a some value. We don't want the graph to oscillate at all - that suggest something could be wrong with the network, training loop, loss function, optimizer, input preprocessing, etc, etc, etc. "
      ],
      "metadata": {
        "id": "DwF1_p0NzlsN"
      }
    },
    {
      "cell_type": "markdown",
      "source": [
        "# Checking our results"
      ],
      "metadata": {
        "id": "qrBtiu7Czw6Z"
      }
    },
    {
      "cell_type": "markdown",
      "source": [
        "Let's start by using that history object we talked about a second ago to see how our network performed"
      ],
      "metadata": {
        "id": "UzlkQGBn0J8c"
      }
    },
    {
      "cell_type": "code",
      "source": [
        "import pandas as pd\n",
        "\n",
        "pd.DataFrame(history.history).plot(figsize=(8, 5))\n",
        "plt.grid(True)\n",
        "plt.gca().set_ylim(0, 1)\n",
        "plt.show()"
      ],
      "metadata": {
        "colab": {
          "base_uri": "https://localhost:8080/",
          "height": 324
        },
        "id": "IeyOEUQxzlIs",
        "outputId": "43d257b9-4200-4b70-c9a8-e016f5d81326"
      },
      "execution_count": null,
      "outputs": [
        {
          "output_type": "display_data",
          "data": {
            "text/plain": [
              "<Figure size 576x360 with 1 Axes>"
            ],
            "image/png": "[encoded data removed]"
          },
          "metadata": {
            "needs_background": "light"
          }
        }
      ]
    },
    {
      "cell_type": "markdown",
      "source": [
        "As you can see, the accuracy on both our training set and validation set improved over time! Similary our loss went down throughout training which indicates our guesses are closer to correct as we train more\n",
        "\n",
        "---\n",
        "\n",
        "Now let's test out model using the testing set we made earlier\n",
        "\n",
        "To get some predictions, we can call `.predict`. Just pass in the testing set and it'll spit out some predictions - though these may not be exactly what you'd expect.\n",
        "\n",
        "Say we feed a single image of a tshirt to the model. Instead of spitting out '0' (the index of B in our class list), instead it will give us a list of 10 elements. Each of these elements correspond to a certainty that that index is the correct one. So it'll look something like this:\n",
        "\n",
        "[0.04, .98, .23, .01, .06, .10, ...]\n",
        "\n",
        "So we need a way to grab the index with the highest certainty. Luckily `np.argmax` exists. This is a numpy function that just gives you the index of the largest element."
      ],
      "metadata": {
        "id": "ihsMpaSG0Wkx"
      }
    },
    {
      "cell_type": "code",
      "source": [
        "pred = model.predict(test_images)\n",
        "print(pred)\n",
        "\n",
        "pred = np.argmax(pred, axis=-1)\n",
        "print(pred)"
      ],
      "metadata": {
        "colab": {
          "base_uri": "https://localhost:8080/"
        },
        "id": "WPJruErX0nEG",
        "outputId": "3d52fcfb-5129-44c2-dfeb-d62ef7f7e52a"
      },
      "execution_count": null,
      "outputs": [
        {
          "output_type": "stream",
          "name": "stdout",
          "text": [
            "[[1.8119879e-05 6.6368592e-08 2.8799775e-05 ... 2.3052603e-02\n",
            "  5.6192069e-04 9.6591318e-01]\n",
            " [2.1146987e-05 1.3196853e-10 9.9905938e-01 ... 4.3918407e-16\n",
            "  7.3569959e-09 2.1951227e-13]\n",
            " [1.4566573e-05 9.9998426e-01 1.1412222e-07 ... 8.5983998e-12\n",
            "  3.3214897e-09 4.0204287e-13]\n",
            " ...\n",
            " [3.4142870e-03 1.1289840e-07 1.8451545e-04 ... 1.5324391e-06\n",
            "  9.9604344e-01 6.9363914e-08]\n",
            " [3.8225844e-06 9.9994063e-01 9.3048828e-07 ... 4.6662471e-08\n",
            "  1.7669552e-07 1.4806261e-08]\n",
            " [4.6373458e-05 1.8540289e-06 3.2526752e-04 ... 5.7388553e-03\n",
            "  1.5217798e-03 3.9915580e-05]]\n",
            "[9 2 1 ... 8 1 5]\n"
          ]
        }
      ]
    },
    {
      "cell_type": "markdown",
      "source": [
        "Now we have an array of index predictions and an array of labels. Now it's super easy to determine the accuracy. We can just compare each index of our prediction list to the same index in our label list and bang, we have an accuracy."
      ],
      "metadata": {
        "id": "e-C4FH0U1RpO"
      }
    },
    {
      "cell_type": "code",
      "source": [
        "total = 0\n",
        "correct = 0\n",
        "for i in range(0, len(test_labels)):\n",
        "  total += 1\n",
        "\n",
        "  if (pred[i] == test_labels[i]):\n",
        "    correct += 1\n",
        "\n",
        "print(\"Accuracy:\", correct / total)"
      ],
      "metadata": {
        "colab": {
          "base_uri": "https://localhost:8080/"
        },
        "id": "a1sJkE2h1UCz",
        "outputId": "5c59123d-2a9a-4786-ccef-09656424c655"
      },
      "execution_count": null,
      "outputs": [
        {
          "output_type": "stream",
          "name": "stdout",
          "text": [
            "Accuracy: 0.8757\n"
          ]
        }
      ]
    },
    {
      "cell_type": "markdown",
      "source": [
        "Finally let's just display a few of our results because it is always fun to have a visual"
      ],
      "metadata": {
        "id": "-ts0Va8315Iq"
      }
    },
    {
      "cell_type": "code",
      "source": [
        "for i in range(0, 10):\n",
        "  show_image(test_images[i], classes[test_labels[i]])\n",
        "  print(\"Pred:\", classes[pred[i]])"
      ],
      "metadata": {
        "colab": {
          "base_uri": "https://localhost:8080/",
          "height": 1000
        },
        "id": "1WERe7Vh1fZ7",
        "outputId": "da645663-a347-4010-891d-a7cdb977aba9"
      },
      "execution_count": null,
      "outputs": [
        {
          "output_type": "display_data",
          "data": {
            "text/plain": [
              "<Figure size 432x288 with 1 Axes>"
            ],
            "image/png": "[encoded data removed]"
          },
          "metadata": {
            "needs_background": "light"
          }
        },
        {
          "output_type": "stream",
          "name": "stdout",
          "text": [
            "Label: ankle boot\n",
            "Pred: ankle boot\n"
          ]
        },
        {
          "output_type": "display_data",
          "data": {
            "text/plain": [
              "<Figure size 432x288 with 1 Axes>"
            ],
            "image/png": "[encoded data removed]"
          },
          "metadata": {
            "needs_background": "light"
          }
        },
        {
          "output_type": "stream",
          "name": "stdout",
          "text": [
            "Label: pullover\n",
            "Pred: pullover\n"
          ]
        },
        {
          "output_type": "display_data",
          "data": {
            "text/plain": [
              "<Figure size 432x288 with 1 Axes>"
            ],
            "image/png": "[encoded data removed]"
          },
          "metadata": {
            "needs_background": "light"
          }
        },
        {
          "output_type": "stream",
          "name": "stdout",
          "text": [
            "Label: trouser\n",
            "Pred: trouser\n"
          ]
        },
        {
          "output_type": "display_data",
          "data": {
            "text/plain": [
              "<Figure size 432x288 with 1 Axes>"
            ],
            "image/png": "[encoded data removed]"
          },
          "metadata": {
            "needs_background": "light"
          }
        },
        {
          "output_type": "stream",
          "name": "stdout",
          "text": [
            "Label: trouser\n",
            "Pred: trouser\n"
          ]
        },
        {
          "output_type": "display_data",
          "data": {
            "text/plain": [
              "<Figure size 432x288 with 1 Axes>"
            ],
            "image/png": "[encoded data removed]"
          },
          "metadata": {
            "needs_background": "light"
          }
        },
        {
          "output_type": "stream",
          "name": "stdout",
          "text": [
            "Label: shirt\n",
            "Pred: shirt\n"
          ]
        },
        {
          "output_type": "display_data",
          "data": {
            "text/plain": [
              "<Figure size 432x288 with 1 Axes>"
            ],
            "image/png": "[encoded data removed]"
          },
          "metadata": {
            "needs_background": "light"
          }
        },
        {
          "output_type": "stream",
          "name": "stdout",
          "text": [
            "Label: trouser\n",
            "Pred: trouser\n"
          ]
        },
        {
          "output_type": "display_data",
          "data": {
            "text/plain": [
              "<Figure size 432x288 with 1 Axes>"
            ],
            "image/png": "[encoded data removed]"
          },
          "metadata": {
            "needs_background": "light"
          }
        },
        {
          "output_type": "stream",
          "name": "stdout",
          "text": [
            "Label: coat\n",
            "Pred: coat\n"
          ]
        },
        {
          "output_type": "display_data",
          "data": {
            "text/plain": [
              "<Figure size 432x288 with 1 Axes>"
            ],
            "image/png": "[encoded data removed]"
          },
          "metadata": {
            "needs_background": "light"
          }
        },
        {
          "output_type": "stream",
          "name": "stdout",
          "text": [
            "Label: shirt\n",
            "Pred: shirt\n"
          ]
        },
        {
          "output_type": "display_data",
          "data": {
            "text/plain": [
              "<Figure size 432x288 with 1 Axes>"
            ],
            "image/png": "[encoded data removed]"
          },
          "metadata": {
            "needs_background": "light"
          }
        },
        {
          "output_type": "stream",
          "name": "stdout",
          "text": [
            "Label: sandal\n",
            "Pred: sandal\n"
          ]
        },
        {
          "output_type": "display_data",
          "data": {
            "text/plain": [
              "<Figure size 432x288 with 1 Axes>"
            ],
            "image/png": "[encoded data removed]"
          },
          "metadata": {
            "needs_background": "light"
          }
        },
        {
          "output_type": "stream",
          "name": "stdout",
          "text": [
            "Label: sneaker\n",
            "Pred: sneaker\n"
          ]
        }
      ]
    }
  ]
}