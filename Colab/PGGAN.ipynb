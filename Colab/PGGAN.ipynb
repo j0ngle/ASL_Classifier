{
  "nbformat": 4,
  "nbformat_minor": 0,
  "metadata": {
    "colab": {
      "name": "PGGAN.ipynb",
      "provenance": [],
      "collapsed_sections": [],
      "mount_file_id": "1Q2FvYQXaBGCBOhTZECOQN4dBjzOAx_IP",
      "authorship_tag": "ABX9TyOdk/H8Z2xsT9tI70YxmiUW",
      "include_colab_link": true
    },
    "kernelspec": {
      "display_name": "Python 3",
      "name": "python3"
    },
    "language_info": {
      "name": "python"
    }
  },
  "cells": [
    {
      "cell_type": "markdown",
      "metadata": {
        "id": "view-in-github",
        "colab_type": "text"
      },
      "source": [
        "<a href=\"https://colab.research.google.com/github/j0ngle/Machine-Learning-Projects/blob/main/PGGAN.ipynb\" target=\"_parent\"><img src=\"https://colab.research.google.com/assets/colab-badge.svg\" alt=\"Open In Colab\"/></a>"
      ]
    },
    {
      "cell_type": "markdown",
      "metadata": {
        "id": "yMiOflPCN8bR"
      },
      "source": [
        "Modification of my DCGAN to implement progressive growth. Progressive growth is the technique of generating very small images (4x4) for a while, then increading the size iteratively until a high resulution image is acheived. This is done by increasing the number of layers in the architecture during training.\n",
        "\n",
        "Trained to replicate landscape paintings from [this](https://www.kaggle.com/ipythonx/wikiart-gangogh-creating-art-gan) dataset. "
      ]
    },
    {
      "cell_type": "markdown",
      "metadata": {
        "id": "KuwdmkkmiZPf"
      },
      "source": [
        "TODO: \n",
        "\n",
        "1. ~~Build new architecture~~\n",
        "\n",
        "  a. ~~Build architecture with predefined convolutional layers~~\n",
        "\n",
        "  b. ~~Update conv layers with weighted layers for equalized lr~~\n",
        "\n",
        "  c. ~~Implement minibatch std on D~~\n",
        "\n",
        "  d. ~~Implement pixel normalization on G~~\n",
        "\n",
        "2. Support for layer additions using skips and additions\n",
        "\n",
        "  a. ~~Write G fade function~~\n",
        "\n",
        "  b. ~~Write D fade function~~\n",
        "\n",
        "  c. Create training loop\n",
        "\n",
        "3. Initial testing\n",
        "\n",
        "4. Minibatch standard deviation\n",
        "\n",
        "5. Hyperparameter tuning\n"
      ]
    },
    {
      "cell_type": "markdown",
      "metadata": {
        "id": "sfqnDc81OcfL"
      },
      "source": [
        "# Getting and processing the data"
      ]
    },
    {
      "cell_type": "markdown",
      "metadata": {
        "id": "IQlz2XrkYkmw"
      },
      "source": [
        "I ran this code locally to remove all images that had undesireable aspect ratios and small sizes. Then I manually removed some bad images, leaving about 1500 for training.\n",
        "\n",
        "I'll start by scaling them to an adequate size of 64x64 and perform some image augmentation to broaden the size of my dataset"
      ]
    },
    {
      "cell_type": "code",
      "metadata": {
        "id": "CHKPe2JsStdl"
      },
      "source": [
        "import numpy as np\n",
        "import cv2\n",
        "import os\n",
        "import urllib\n",
        "import urllib.request\n",
        "import pandas as pd\n",
        "import matplotlib.pyplot as plt\n",
        "import tensorflow as tf\n",
        "from tensorflow import keras\n",
        "from keras import backend"
      ],
      "execution_count": null,
      "outputs": []
    },
    {
      "cell_type": "markdown",
      "metadata": {
        "id": "JkLDhu4jugGH"
      },
      "source": [
        "The output activation funtion for the generator is tanh, which outputs values from -1 to 1. As such, we need to normalize our images to satisfy this range"
      ]
    },
    {
      "cell_type": "code",
      "metadata": {
        "id": "BiQqOELOOmS2"
      },
      "source": [
        "def process_batch(path, size):\n",
        "  processed = []\n",
        "  i = 0\n",
        "\n",
        "  print(\"Processing all images in {}\".format(path))\n",
        "  print(\"Scaling to {}x{} pixels\".format(size, size))\n",
        "\n",
        "  for filename in os.listdir(PATH):\n",
        "    if filename.endswith('jpg'):\n",
        "      if i % 500 == 0:\n",
        "        print(\"Processed {} images\".format(i))\n",
        "\n",
        "      img = None\n",
        "      img = process_image(path + filename, size)\n",
        "\n",
        "      processed.append(img)\n",
        "      i += 1\n",
        "\n",
        "  return np.asarray(processed)\n",
        "\n",
        "def process_image(img_path, size):\n",
        "  #Convert Image to numpy array\n",
        "  img = cv2.imread(img_path)\n",
        "\n",
        "  #Resize the image\n",
        "  img = cv2.resize(img, dsize=(size, size), interpolation=cv2.INTER_CUBIC)\n",
        "\n",
        "  #Normalize image\n",
        "  img = (img - 127.5) / 127.5\n",
        "\n",
        "  return img.astype(np.float32)\n",
        "\n",
        "\n",
        "def show_image(image):\n",
        "  #Readjusted pixel values (convert from [-1, 1] to [0, 1]) \n",
        "  image_adjusted = (image * 127.5 + 127.5) / 255.\n",
        "  plt.imshow(image_adjusted, cmap='binary')\n",
        "  plt.axis('off')\n",
        "  plt.show()\n",
        "\n",
        "def plot_multiple_images(images, n_cols=None):\n",
        "    n_cols = n_cols or len(images)\n",
        "    n_rows = (len(images) - 1) // n_cols + 1\n",
        "    if images.shape[-1] == 1:\n",
        "        images = np.squeeze(images, axis=-1)\n",
        "    plt.figure(figsize=(n_cols, n_rows))\n",
        "    for index, image in enumerate(images):\n",
        "\n",
        "        image_adjusted = (image * 127.5 + 127.5) / 255.\n",
        "\n",
        "        plt.subplot(n_rows, n_cols, index + 1)\n",
        "        plt.imshow(image_adjusted, cmap='binary')\n",
        "        plt.axis(\"off\")"
      ],
      "execution_count": null,
      "outputs": []
    },
    {
      "cell_type": "code",
      "metadata": {
        "id": "XR6v3Oh8PBVs"
      },
      "source": [
        "PATH = '/content/drive/MyDrive/Summer 2021 AI Research Stuff/Colab Files/Resources/reduced_landscape/'\n",
        "\n",
        "# landscapes = process_batch(PATH, 4)\n",
        "# plot_multiple_images(landscapes[:40], n_cols=8)"
      ],
      "execution_count": null,
      "outputs": []
    },
    {
      "cell_type": "markdown",
      "metadata": {
        "id": "scgaIR07TNL1"
      },
      "source": [
        "# Creating the model"
      ]
    },
    {
      "cell_type": "code",
      "metadata": {
        "id": "sI7Hdqj1WmF6"
      },
      "source": [
        "#Hyperparameters\n",
        "SAMPLE_SIZE      = 1000\n",
        "BATCH_SIZE       = 32\n",
        "LEAKY_SLOPE      = 0.2\n",
        "DROPOUT          = 0.4\n",
        "CODINGS_SIZE     = 128 #Might increase size later\n",
        "FILTERS          = [512, 256, 128, 64, 32, 16, 8, 4]\n",
        "WEIGHT_STD       = 0.02\n",
        "WEIGHT_MEAN      = 0\n",
        "LEARNING_RATE_G  = 0.0001\n",
        "LEARNING_RATE_D  = 0.0002\n",
        "scaled_size      = 4\n",
        "\n",
        "tf.random.set_seed(42)\n",
        "np.random.seed(42)"
      ],
      "execution_count": null,
      "outputs": []
    },
    {
      "cell_type": "code",
      "metadata": {
        "id": "SDPbbs14Ev5f"
      },
      "source": [
        "def prepare_dataset(path, img_size):\n",
        "  images = process_batch(path, img_size)\n",
        "  dataset = tf.data.Dataset.from_tensor_slices(images).shuffle(SAMPLE_SIZE)\n",
        "  dataset = dataset.batch(BATCH_SIZE, drop_remainder=True)\n",
        "  dataset.prefetch(1)\n",
        "\n",
        "  return dataset"
      ],
      "execution_count": null,
      "outputs": []
    },
    {
      "cell_type": "code",
      "metadata": {
        "colab": {
          "base_uri": "https://localhost:8080/"
        },
        "id": "nZ4zF2TjrOgR",
        "outputId": "a130db34-9a9c-407e-eaf5-ed649f5ff185"
      },
      "source": [
        "dataset = prepare_dataset(PATH, 4)"
      ],
      "execution_count": null,
      "outputs": [
        {
          "output_type": "stream",
          "name": "stdout",
          "text": [
            "Processing all images in /content/drive/MyDrive/Summer 2021 AI Research Stuff/Colab Files/Resources/reduced_landscape/\n",
            "Scaling to 4x4 pixels\n",
            "Processed 0 images\n",
            "Processed 500 images\n",
            "Processed 1000 images\n"
          ]
        }
      ]
    },
    {
      "cell_type": "markdown",
      "metadata": {
        "id": "IxV7aFndEX3N"
      },
      "source": [
        "Defining custom classes\n",
        "\n",
        "**Weight Scaling**: Since the model is so frequently changing, there is no need to initialize weights to anything other than N(0, 1). As the number of parameters increases, the dynamic range of the model changes as well. Adam and RMASProp update gradients according to the dynamic range of the model. Since it is always changing, they don't work the best\n",
        "\n",
        "We can help this along by equalizing the learning rate with some math. Scaling the parameters as such stddev = sqrt(2 / fan_in) ensures that all weight parameters have the same dynamic range\n",
        "\n",
        "**Pixel Normalization**: Use similarly to batch normalization. Helps prevent signal magnitudes from spiraling out of control during training\n",
        "\n",
        "**Minibatch**: Helps prevent mode collapse by looking a group of generated images simultaneously, rather than one at a time. Some math is performed to determine how similar or different these images are from one another. If the images are too similar, the discriminator is able to judge all images as negative quickly, punishing the generator for creating images with little variety\n",
        "\n",
        "**Weighted Sum**: When adding new layers to G and D, we must first gradually fade in the outputs. We do this by adding the outputs of a scaled up version of the old G and D to the outputs of the new ones. The contribution of each network is determined by alpha. The new model started by contributing very little to the output and eventually begins contributing 100% to the output.\n",
        "\n",
        "WeightedSum is treated as its own layer, so we can simply attach the two models to a WeightedSum object"
      ]
    },
    {
      "cell_type": "code",
      "metadata": {
        "id": "WQVyQ_oOkcu-"
      },
      "source": [
        "class WeightScaling(keras.layers.Layer):\n",
        "  def __init__(self, shape, gain=np.sqrt(2), **kwargs):\n",
        "    super(WeightScaling, self).__init__(**kwargs)\n",
        "    shape = np.asarray(shape)\n",
        "    shape = tf.constant(shape, dtype=tf.float32)\n",
        "    fan_in = tf.math.reduce_prod(shape)\n",
        "    self.wscale = gain * tf.math.rsqrt(fan_in)\n",
        "\n",
        "  def call(self, inputs, **kwargs):\n",
        "    inputs = tf.cast(inputs, tf.float32)\n",
        "\n",
        "    return inputs * self.wscale\n",
        "\n",
        "  def compute_output_shape(self, input_shape):\n",
        "    return input_shape\n",
        "\n",
        "class PixelNormalization(keras.layers.Layer):\n",
        "  def __init__(self, **kwargs):\n",
        "    super(PixelNormalization, self).__init__(**kwargs)\n",
        "\n",
        "  def call(self, inputs):\n",
        "    mean_square = tf.reduce_mean(tf.square(inputs), axis=-1, keepdims=True)\n",
        "    l2 = tf.math.rsqrt(mean_square + 1.0e-8)\n",
        "    \n",
        "    return inputs * l2\n",
        "\n",
        "  def compute_output_shape(self, input_shape):\n",
        "    return input_shape\n",
        "\n",
        "class Minibatch(keras.layers.Layer):\n",
        "  def __init__(self, **kwargs):\n",
        "    super(Minibatch, self).__init__(**kwargs)\n",
        "\n",
        "  def call(self, inputs):\n",
        "    mean = tf.reduce_mean(inputs, axis=0, keepdims=True)\n",
        "    stddev = tf.sqrt(tf.reduce_mean(tf.square(inputs - mean), axis=0, keepdims=True) + 1e-8)\n",
        "    avg_stddev = tf.reduce_mean(stddev, keepdims=True)\n",
        "    shape = tf.shape(inputs)\n",
        "    minibatch = tf.tile(avg_stddev, (shape[0], shape[1], shape[2], 1))\n",
        "    \n",
        "    return tf.concat([inputs, minibatch], axis=-1)\n",
        "\n",
        "  def compute_output_shape(self, input_shape):\n",
        "    input_shape = list(input_shape)\n",
        "    input_shape[-1] += 1\n",
        "    \n",
        "    return tuple(input_shape)\n",
        "\n",
        "class WeightedSum(keras.layers.Add):\n",
        "  def __init__(self, alpha=0.0, **kwargs):\n",
        "    super(WeightedSum, self).__init__(**kwargs)\n",
        "    self.alpha = backend.variable(alpha, name='ws_alpha')\n",
        "\n",
        "  def _merge_function(self, inputs):\n",
        "    assert (len(inputs) == 2)\n",
        "    output = ((1.0 - self.alpha) * inputs[0] + (self.alpha * inputs[1]))\n",
        "\n",
        "    return output"
      ],
      "execution_count": null,
      "outputs": []
    },
    {
      "cell_type": "markdown",
      "metadata": {
        "id": "vlWHJuuV0Zwr"
      },
      "source": [
        "Note: I omitted custom bias layer in favor of simply toggling ```use_bias = True```\n",
        "\n"
      ]
    },
    {
      "cell_type": "code",
      "metadata": {
        "id": "X1jCM_RSy0kU"
      },
      "source": [
        "def WS_Dense(model, filters, gain, use_pixelnorm=False, activation=None):\n",
        "  init = keras.initializers.RandomNormal(mean=0, stddev=1.)\n",
        "  in_filters = backend.int_shape(model)[-1]\n",
        "\n",
        "  model = keras.layers.Dense(filters, use_bias=True, kernel_initializer=init, dtype='float32')(model)\n",
        "  model = WeightScaling(shape=(in_filters), gain=gain)(model)\n",
        "\n",
        "  if activation == 'LeakyReLU':\n",
        "    model = keras.layers.LeakyReLU(LEAKY_SLOPE)(model)\n",
        "  elif activation == 'tanh':\n",
        "    model = keras.layers.activation('tanh')(model)\n",
        "\n",
        "  if use_pixelnorm:\n",
        "    model = PixelNormalization()(model)\n",
        "\n",
        "  return model\n",
        "\n",
        "def WS_Conv(model, filters, k_size, strides, gain, use_pixelnorm, activation):\n",
        "  init = keras.initializers.RandomNormal(mean=0, stddev=1.)\n",
        "  in_filters = backend.int_shape(model)[-1]\n",
        "\n",
        "  model = keras.layers.Conv2D(filters, kernel_size=k_size, strides=strides, \n",
        "                          use_bias=True, padding='same', kernel_initializer=init,\n",
        "                          dtype='float32')(model)\n",
        "  model = WeightScaling(shape=(k_size[0], k_size[1], in_filters), gain=gain)(model)\n",
        "\n",
        "  if activation == 'LeakyReLU':\n",
        "    model = keras.layers.LeakyReLU(LEAKY_SLOPE)(model)\n",
        "  elif activation == 'tanh':\n",
        "    model = keras.layers.Activation('tanh')(model)\n",
        "\n",
        "  if use_pixelnorm:\n",
        "    model = PixelNormalization()(model)\n",
        "  \n",
        "  return model"
      ],
      "execution_count": null,
      "outputs": []
    },
    {
      "cell_type": "markdown",
      "metadata": {
        "id": "r7ad9PkkfLWK"
      },
      "source": [
        "These are the initial states for G and D. They are designed to generate (and discriminate) 4x4 images. Their capabilities will be expanded in the grow generator and grow discriminator functions"
      ]
    },
    {
      "cell_type": "code",
      "metadata": {
        "id": "8R-0pmi2nMJb"
      },
      "source": [
        "def init_generator():\n",
        "  input_ = keras.layers.Input(shape=(CODINGS_SIZE,))\n",
        "\n",
        "  model = PixelNormalization()(input_)\n",
        "\n",
        "  model = WS_Dense(model, 4*4*FILTERS[0], gain=np.sqrt(2)/4, \n",
        "                   activation='LeakyReLU', use_pixelnorm=True)\n",
        "\n",
        "  model = keras.layers.Reshape([scaled_size, scaled_size, FILTERS[0]])(model)\n",
        "  \n",
        "  model = WS_Conv(model, filters=FILTERS[0], k_size=(4, 4), strides=(1, 1), \n",
        "                  gain=np.sqrt(2), activation='LeakyReLU', use_pixelnorm=True)\n",
        "  model = WS_Conv(model, filters=FILTERS[0], k_size=(3, 3), strides=(1, 1), \n",
        "                  gain=np.sqrt(2), activation='LeakyReLU', use_pixelnorm=True)\n",
        "\n",
        "\n",
        "  model = WS_Conv(model, filters=3, k_size=(1, 1), strides=(1, 1), gain=1,\n",
        "                  activation='tanh', use_pixelnorm=False)   #toRGB\n",
        "  \n",
        "  generator = keras.Model(input_, model, name='generator')\n",
        "\n",
        "  return generator\n",
        "\n",
        "def init_discriminator():\n",
        "  input_ = keras.layers.Input(shape=(4, 4, 3))\n",
        "  # input_ = tf.cast(input_, tf.float32)\n",
        "\n",
        "  model = WS_Conv(input_, FILTERS[0], k_size=(1, 1), strides=(1, 1), \n",
        "                  gain=np.sqrt(2), activation='LeakyReLU', use_pixelnorm=False) #fromRGB\n",
        "\n",
        "  model = Minibatch()(model)\n",
        "\n",
        "  model = WS_Conv(model, FILTERS[0], k_size=(3, 3), strides=(1, 1), \n",
        "                  gain=np.sqrt(2), activation='LeakyReLU', use_pixelnorm=False)\n",
        "  model = WS_Conv(model, FILTERS[0], k_size=(4, 4), strides=(4, 4), \n",
        "                  gain=np.sqrt(2), activation='LeakyReLU', use_pixelnorm=False)\n",
        "\n",
        "  model = keras.layers.Flatten()(model)\n",
        "\n",
        "  model = WS_Dense(model, filters=1, gain=1.)\n",
        "\n",
        "  discriminator = keras.Model(input_, model, name='discriminator')\n",
        "\n",
        "  return discriminator"
      ],
      "execution_count": null,
      "outputs": []
    },
    {
      "cell_type": "code",
      "metadata": {
        "id": "xO6X0CHoTPeC"
      },
      "source": [
        "generator = init_generator()\n",
        "discriminator = init_discriminator()"
      ],
      "execution_count": null,
      "outputs": []
    },
    {
      "cell_type": "code",
      "metadata": {
        "colab": {
          "base_uri": "https://localhost:8080/"
        },
        "id": "ppxWIDQnxgfr",
        "outputId": "5953635b-7abb-455d-c672-c8dd7a7144da"
      },
      "source": [
        "generator.summary()"
      ],
      "execution_count": null,
      "outputs": [
        {
          "output_type": "stream",
          "name": "stdout",
          "text": [
            "Model: \"generator\"\n",
            "_________________________________________________________________\n",
            "Layer (type)                 Output Shape              Param #   \n",
            "=================================================================\n",
            "input_13 (InputLayer)        [(None, 128)]             0         \n",
            "_________________________________________________________________\n",
            "pixel_normalization_24 (Pixe (None, 128)               0         \n",
            "_________________________________________________________________\n",
            "dense_4 (Dense)              (None, 8192)              1056768   \n",
            "_________________________________________________________________\n",
            "weight_scaling_64 (WeightSca (None, 8192)              0         \n",
            "_________________________________________________________________\n",
            "leaky_re_lu_52 (LeakyReLU)   (None, 8192)              0         \n",
            "_________________________________________________________________\n",
            "pixel_normalization_25 (Pixe (None, 8192)              0         \n",
            "_________________________________________________________________\n",
            "reshape_2 (Reshape)          (None, 4, 4, 512)         0         \n",
            "_________________________________________________________________\n",
            "conv2d_60 (Conv2D)           (None, 4, 4, 512)         4194816   \n",
            "_________________________________________________________________\n",
            "weight_scaling_65 (WeightSca (None, 4, 4, 512)         0         \n",
            "_________________________________________________________________\n",
            "leaky_re_lu_53 (LeakyReLU)   (None, 4, 4, 512)         0         \n",
            "_________________________________________________________________\n",
            "pixel_normalization_26 (Pixe (None, 4, 4, 512)         0         \n",
            "_________________________________________________________________\n",
            "conv2d_61 (Conv2D)           (None, 4, 4, 512)         2359808   \n",
            "_________________________________________________________________\n",
            "weight_scaling_66 (WeightSca (None, 4, 4, 512)         0         \n",
            "_________________________________________________________________\n",
            "leaky_re_lu_54 (LeakyReLU)   (None, 4, 4, 512)         0         \n",
            "_________________________________________________________________\n",
            "pixel_normalization_27 (Pixe (None, 4, 4, 512)         0         \n",
            "_________________________________________________________________\n",
            "conv2d_62 (Conv2D)           (None, 4, 4, 3)           1539      \n",
            "_________________________________________________________________\n",
            "weight_scaling_67 (WeightSca (None, 4, 4, 3)           0         \n",
            "_________________________________________________________________\n",
            "activation_10 (Activation)   (None, 4, 4, 3)           0         \n",
            "=================================================================\n",
            "Total params: 7,612,931\n",
            "Trainable params: 7,612,931\n",
            "Non-trainable params: 0\n",
            "_________________________________________________________________\n"
          ]
        }
      ]
    },
    {
      "cell_type": "code",
      "metadata": {
        "colab": {
          "base_uri": "https://localhost:8080/"
        },
        "id": "kvTOYFgnJr34",
        "outputId": "ef4cc161-34c1-4bd8-bc22-53242da26094"
      },
      "source": [
        "print(generator.layers[-4])\n",
        "print()\n",
        "generator.layers"
      ],
      "execution_count": null,
      "outputs": [
        {
          "output_type": "stream",
          "name": "stdout",
          "text": [
            "<__main__.PixelNormalization object at 0x7f695d2ad6d0>\n",
            "\n"
          ]
        },
        {
          "output_type": "execute_result",
          "data": {
            "text/plain": [
              "[<keras.engine.input_layer.InputLayer at 0x7f695d2dbb10>,\n",
              " <__main__.PixelNormalization at 0x7f695d379690>,\n",
              " <keras.layers.core.Dense at 0x7f695d338b10>,\n",
              " <__main__.WeightScaling at 0x7f695d33c090>,\n",
              " <keras.layers.advanced_activations.LeakyReLU at 0x7f695d3161d0>,\n",
              " <__main__.PixelNormalization at 0x7f695d316d90>,\n",
              " <keras.layers.core.Reshape at 0x7f695d2d8cd0>,\n",
              " <keras.layers.convolutional.Conv2D at 0x7f695d30a890>,\n",
              " <__main__.WeightScaling at 0x7f695d38c1d0>,\n",
              " <keras.layers.advanced_activations.LeakyReLU at 0x7f695d38abd0>,\n",
              " <__main__.PixelNormalization at 0x7f695d2f3d90>,\n",
              " <keras.layers.convolutional.Conv2D at 0x7f695d2fe7d0>,\n",
              " <__main__.WeightScaling at 0x7f695d30a790>,\n",
              " <keras.layers.advanced_activations.LeakyReLU at 0x7f695d2adb50>,\n",
              " <__main__.PixelNormalization at 0x7f695d2ad6d0>,\n",
              " <keras.layers.convolutional.Conv2D at 0x7f695d2adb90>,\n",
              " <__main__.WeightScaling at 0x7f695d319a10>,\n",
              " <keras.layers.core.Activation at 0x7f695d2ea310>]"
            ]
          },
          "metadata": {},
          "execution_count": 69
        }
      ]
    },
    {
      "cell_type": "code",
      "metadata": {
        "colab": {
          "base_uri": "https://localhost:8080/"
        },
        "id": "ZrGjn0CzyVo9",
        "outputId": "a27b350f-d1f8-4b0a-8f71-daf0745c4173"
      },
      "source": [
        "discriminator.summary()"
      ],
      "execution_count": null,
      "outputs": [
        {
          "output_type": "stream",
          "name": "stdout",
          "text": [
            "Model: \"discriminator\"\n",
            "_________________________________________________________________\n",
            "Layer (type)                 Output Shape              Param #   \n",
            "=================================================================\n",
            "input_14 (InputLayer)        [(None, 4, 4, 3)]         0         \n",
            "_________________________________________________________________\n",
            "conv2d_63 (Conv2D)           (None, 4, 4, 512)         2048      \n",
            "_________________________________________________________________\n",
            "weight_scaling_68 (WeightSca (None, 4, 4, 512)         0         \n",
            "_________________________________________________________________\n",
            "leaky_re_lu_55 (LeakyReLU)   (None, 4, 4, 512)         0         \n",
            "_________________________________________________________________\n",
            "minibatch_2 (Minibatch)      (None, 4, 4, 513)         0         \n",
            "_________________________________________________________________\n",
            "conv2d_64 (Conv2D)           (None, 4, 4, 512)         2364416   \n",
            "_________________________________________________________________\n",
            "weight_scaling_69 (WeightSca (None, 4, 4, 512)         0         \n",
            "_________________________________________________________________\n",
            "leaky_re_lu_56 (LeakyReLU)   (None, 4, 4, 512)         0         \n",
            "_________________________________________________________________\n",
            "conv2d_65 (Conv2D)           (None, 1, 1, 512)         4194816   \n",
            "_________________________________________________________________\n",
            "weight_scaling_70 (WeightSca (None, 1, 1, 512)         0         \n",
            "_________________________________________________________________\n",
            "leaky_re_lu_57 (LeakyReLU)   (None, 1, 1, 512)         0         \n",
            "_________________________________________________________________\n",
            "flatten_2 (Flatten)          (None, 512)               0         \n",
            "_________________________________________________________________\n",
            "dense_5 (Dense)              (None, 1)                 513       \n",
            "_________________________________________________________________\n",
            "weight_scaling_71 (WeightSca (None, 1)                 0         \n",
            "=================================================================\n",
            "Total params: 6,561,793\n",
            "Trainable params: 6,561,793\n",
            "Non-trainable params: 0\n",
            "_________________________________________________________________\n"
          ]
        }
      ]
    },
    {
      "cell_type": "code",
      "metadata": {
        "colab": {
          "base_uri": "https://localhost:8080/"
        },
        "id": "FvMHtJ8RoHg9",
        "outputId": "87f93b90-0953-46e3-f99c-2e4466a694db"
      },
      "source": [
        "print(discriminator.layers[4])\n",
        "print(len(discriminator.layers))\n"
      ],
      "execution_count": null,
      "outputs": [
        {
          "output_type": "stream",
          "name": "stdout",
          "text": [
            "<__main__.Minibatch object at 0x7f695d2d65d0>\n",
            "14\n"
          ]
        }
      ]
    },
    {
      "cell_type": "markdown",
      "metadata": {
        "id": "KYaZy0i5FPit"
      },
      "source": [
        "Next we want to define functions for fading new blocks into G and D\n",
        "\n",
        "**G Process**:\n",
        "\n",
        "The fade block goes right above the existing toRGB block\n",
        "  \n",
        "1. Get node above 'toRGB' block as `block`\n",
        "\n",
        "2. Use upsampling to double the above\n",
        "\n",
        "3. Reuse existing 'toRGB' as `old_G`\n",
        "\n",
        "  a. Attach to `block`\n",
        "\n",
        "4. Define a fade in block as `new_G` and add a new 'toRGB' (filters should be derived from depth parameter)\n",
        "\n",
        "5. Define `new_G` generator (stablized generator)\n",
        "\n",
        "6. Find the weighted sum of `old_G` and `new_G`\n",
        "\n",
        "**D Process**:\n",
        "\n",
        "1. Double input resolution\n",
        "\n",
        "2. Add a pooling layer to downscale the new input resolution as `old_D`\n",
        "\n",
        "  a. Reuse 'fromRGB' block\n",
        "\n",
        "3. Define a fade in block as `new_D`\n",
        "\n",
        "4. Calculate the weighted sum of `old_D` and `new_D`\n",
        "\n",
        "5. Define new D\n",
        "\n",
        "6. Add existing D layers"
      ]
    },
    {
      "cell_type": "code",
      "metadata": {
        "id": "VUG-P_EiFPJt"
      },
      "source": [
        "def fade_G(generator, depth):\n",
        "  #Double generated image size\n",
        "  block = generator.layers[-4].output               #pixel_normalization_7\n",
        "  block = keras.layers.UpSampling2D((2, 2))(block)  #Doubling using upscaling\n",
        "\n",
        "  #Grabbing old output\n",
        "  old_G = generator.layers[-3](block)               #conv2d_8        \n",
        "  old_G = generator.layers[-2](old_G)               #weight_scaling_11\n",
        "  old_G = generator.layers[-1](old_G)               #activation_1 \n",
        "\n",
        "  #New block\n",
        "  new_G = WS_Conv(block, filters=FILTERS[depth], k_size=(3, 3), strides=(1, 1),\n",
        "                    gain=np.sqrt(2), activation='LeakyReLU', use_pixelnorm=True)\n",
        "  new_G = WS_Conv(new_G, filters=FILTERS[depth], k_size=(3, 3), strides=(1, 1),\n",
        "                    gain=np.sqrt(2), activation='LeakyReLU', use_pixelnorm=True)\n",
        "  new_G = WS_Conv(new_G, filters=3, k_size=(1, 1), strides=(1, 1),\n",
        "                    gain=1., activation='tanh', use_pixelnorm=False)  #linear in paper\n",
        "  \n",
        "  #G_stable = keras.Model(generator.input, new_G, name='generator')\n",
        "\n",
        "  #New generator that outputs the weighted sum of both old and new G\n",
        "  new_generator = WeightedSum()([old_G, new_G])\n",
        "\n",
        "  #Compile\n",
        "  new_generator = keras.models.Model(generator.input, new_generator, name='generator')\n",
        "\n",
        "  return new_generator#, G_stable\n",
        "\n",
        "def fade_D(discriminator, depth):\n",
        "  #Double out input shape\n",
        "  input_shape = list(discriminator.input.shape)\n",
        "  input_shape = (input_shape[1]*2, input_shape[2]*2, input_shape[3])\n",
        "\n",
        "  new_input_ = keras.layers.Input(shape=input_shape)\n",
        "  # new_input_ = tf.cast(new_input_, tf.float32)\n",
        "\n",
        "  #Grab old input from D\n",
        "  old_D = keras.layers.AveragePooling2D()(new_input_) #Downscale input\n",
        "  old_D = discriminator.layers[1](old_D)              #conv2d_3\n",
        "  old_D = discriminator.layers[2](old_D)              #weight_scaling_4\n",
        "  old_D = discriminator.layers[3](old_D)              #leaky_re_lu_3\n",
        "\n",
        "  #Define new D with double input\n",
        "  new_D = WS_Conv(new_input_, filters=FILTERS[depth], k_size=(1, 1), strides=(1, 1),\n",
        "                  gain=np.sqrt(2), activation='LeakyReLU', use_pixelnorm=False)\n",
        "  new_D = WS_Conv(new_D, filters=FILTERS[depth], k_size=(3, 3), strides=(1, 1),\n",
        "                  gain=np.sqrt(2), activation='LeakyReLU', use_pixelnorm=False)\n",
        "  new_D = WS_Conv(new_D, filters=FILTERS[depth-1], k_size=(3, 3), strides=(1, 1),\n",
        "                  gain=np.sqrt(2), activation='LeakyReLU', use_pixelnorm=False)\n",
        "  new_D = keras.layers.AveragePooling2D()(new_D)\n",
        "\n",
        "  #New D with weightedSum\n",
        "  new_discriminator = WeightedSum()([old_D, new_D])\n",
        "\n",
        "  #Rebuild stable D\n",
        "  # for i in range(4, len(discriminator.layers)):\n",
        "  #   new_D = discriminator.layers[i](new_D)\n",
        "  # D_stable = keras.Model(new_input_, new_D, name='discriminator')\n",
        "\n",
        "  #Connect new D with remaining layers from old\n",
        "  for i in range(4, len(discriminator.layers)):\n",
        "    new_discriminator = discriminator.layers[i](new_discriminator)\n",
        "  new_discriminator = keras.models.Model(new_input_, new_discriminator, name='discriminator')\n",
        "\n",
        "  return new_discriminator#, D_stable"
      ],
      "execution_count": null,
      "outputs": []
    },
    {
      "cell_type": "markdown",
      "metadata": {
        "id": "8GzSD16X00UC"
      },
      "source": [
        "Testing that the models were compiled correctly\n",
        "\n",
        "The Generator should not produce a black box since the weights were not normalized to be relatively zero-centered. This is by design\n",
        "\n",
        "The Discriminator should predict the generated image with a probability of about 0.5 since it is untrained"
      ]
    },
    {
      "cell_type": "code",
      "metadata": {
        "colab": {
          "base_uri": "https://localhost:8080/",
          "height": 265
        },
        "id": "7JPenx_ty4Qp",
        "outputId": "804144f4-2b46-4a67-a4b7-b3eb00a960cc"
      },
      "source": [
        "noise = tf.random.normal([1, CODINGS_SIZE])\n",
        "\n",
        "generated_image = generator(noise)\n",
        "\n",
        "show_image(generated_image[0, :, :, :])\n",
        "print(generated_image.shape)"
      ],
      "execution_count": null,
      "outputs": [
        {
          "output_type": "display_data",
          "data": {
            "image/png": "[encoded data removed]",
            "text/plain": [
              "<Figure size 432x288 with 1 Axes>"
            ]
          },
          "metadata": {
            "needs_background": "light"
          }
        },
        {
          "output_type": "stream",
          "name": "stdout",
          "text": [
            "(1, 4, 4, 3)\n"
          ]
        }
      ]
    },
    {
      "cell_type": "code",
      "metadata": {
        "colab": {
          "base_uri": "https://localhost:8080/"
        },
        "id": "QFaKabD60z5F",
        "outputId": "5ef81941-ea1c-46b3-a2a1-edfb0e36e2f1"
      },
      "source": [
        "print(discriminator(generated_image))"
      ],
      "execution_count": null,
      "outputs": [
        {
          "output_type": "stream",
          "name": "stdout",
          "text": [
            "tf.Tensor([[0.43090957]], shape=(1, 1), dtype=float32)\n"
          ]
        }
      ]
    },
    {
      "cell_type": "markdown",
      "metadata": {
        "id": "T5E97aAwAYNK"
      },
      "source": [
        "# Training the Model"
      ]
    },
    {
      "cell_type": "markdown",
      "metadata": {
        "id": "P7yQ_ksD1Khb"
      },
      "source": [
        "**Label Smoothing** prevents the discriminator from being either over confident or underconfident in its predictions.\n",
        "\n",
        "Essentially if the discriminator is too certain that there is a dog in a given image, the generator can exploit that and contiuously generate similar images, thus it'll stop improving.\n",
        "\n",
        "This can be combatted by setting the\n",
        "\n",
        "1. Negative Class labels to a range [0, 0.3]\n",
        "2. Postitive Class labels to a range [0.7, 1]\n",
        "\n",
        "**Instance Noise** adds a small amount of error to the labels, which tends to make the true and predicted distributions more spread out.\n",
        "\n",
        "Instance Noise makes the learning process for the generator easier\n",
        "\n",
        "ngl idk exactly how this algorithm works, but it does the above"
      ]
    },
    {
      "cell_type": "code",
      "metadata": {
        "id": "a_CGcVJo2Rbv"
      },
      "source": [
        "def smooth_labels(y, label_type):\n",
        "  if label_type is 'positive':\n",
        "    return y - 0.3 + (np.random.random(y.shape) * 0.5)\n",
        "  elif label_type is 'negative':\n",
        "    return y + np.random.random(y.shape) * 0.3\n",
        "  else:\n",
        "    raise ValueError('Expected \"positive\" or \"negative\" for label_type. Recieved:', label_type)\n",
        "\n",
        "def noisy_labels(y, p_flip):\n",
        "  length = int(y.shape[0])\n",
        "\n",
        "  num_labels = int(p_flip * length)\n",
        "\n",
        "  i_flip = np.random.choice([i for i in range(length)], size=num_labels)\n",
        "\n",
        "  op_list = []\n",
        "  for i in range(length):\n",
        "    if i in i_flip:\n",
        "      op_list.append(tf.subtract(1, y[i]))\n",
        "    else:\n",
        "      op_list.append(y[i])\n",
        "\n",
        "  outputs = tf.stack(op_list)\n",
        "  return outputs"
      ],
      "execution_count": null,
      "outputs": []
    },
    {
      "cell_type": "markdown",
      "metadata": {
        "id": "MhDQlCPRJzar"
      },
      "source": [
        "Both the generator and discriminator will use Adam optimizers, but it is possible that they could end up requiring different learning rate. Thus, we will define a unique optimizer for each of the two"
      ]
    },
    {
      "cell_type": "code",
      "metadata": {
        "id": "UBWz2OHFIbb-"
      },
      "source": [
        "gen_optimizer = keras.optimizers.Adam(learning_rate=LEARNING_RATE_G, beta_1=.5)\n",
        "disc_optimizer = keras.optimizers.Adam(learning_rate=LEARNING_RATE_D, beta_1=0.5)\n",
        "#disc_optimizer = keras.optimizers.SGD(learning_rate=LEARNING_RATE_D)\n",
        "cross_entropy = keras.losses.BinaryCrossentropy(from_logits=False)"
      ],
      "execution_count": null,
      "outputs": []
    },
    {
      "cell_type": "markdown",
      "metadata": {
        "id": "7eYM_7OtAvc_"
      },
      "source": [
        "Defining Loss Functions\n",
        "\n",
        "Uses Binary Crossentropy to calculate loss.\n",
        "\n",
        "Discriminator loss: How well the discriminator was able to detect fake images\n",
        "\n",
        "Generator loss: How well the generator was able to fool the discriminator. We apply positive (1) labels to all generated images to attempt to fool the discriminator"
      ]
    },
    {
      "cell_type": "code",
      "metadata": {
        "id": "6y80-NRlAw9r"
      },
      "source": [
        "def discriminator_loss(real_output, fake_output, apply_smoothing=True, apply_noise=True):\n",
        "  real_output_mod = real_output\n",
        "  fake_output_mod = fake_output\n",
        "\n",
        "  if apply_noise:\n",
        "    real_output_mod = noisy_labels(tf.ones_like(real_output_mod), 0.1)\n",
        "    fake_output_mod = noisy_labels(tf.zeros_like(fake_output_mod), 0.1)\n",
        "  \n",
        "  if apply_smoothing:\n",
        "    real_output_mod = smooth_labels(real_output_mod, 'positive')\n",
        "    fake_output_mod = smooth_labels(fake_output_mod, 'negative')\n",
        "\n",
        "  #Instead of cross_entropy, try:\n",
        "  #fake mean - real mean\n",
        "  #Gradient penalty\n",
        "  #Drift for regularization\n",
        "\n",
        "  #Or try cross entropy\n",
        "  real_loss = cross_entropy(tf.ones_like(real_output_mod), real_output) #labels, outputs\n",
        "  fake_loss = cross_entropy(tf.zeros_like(fake_output_mod), fake_output)\n",
        "\n",
        "  return real_loss + fake_loss\n",
        "\n",
        "def generator_loss(fake_output, apply_smoothing=True):\n",
        "  fake_output_mod = fake_output\n",
        "\n",
        "  if apply_smoothing:\n",
        "    fake_output_mod = smooth_labels(fake_output_mod, 'negative')\n",
        "\n",
        "  return cross_entropy(tf.ones_like(fake_output_mod), fake_output)"
      ],
      "execution_count": null,
      "outputs": []
    },
    {
      "cell_type": "code",
      "metadata": {
        "id": "s_5XwtCz4oxh"
      },
      "source": [
        "def plot_losses(G_loss, D_loss, G_loss_total, D_loss_total, G_mean, D_mean, epoch):\n",
        "  plt.figure(figsize=(10, 5))\n",
        "  plt.title(\"Generator and Discriminator Loss - EPOCH {}\".format(epoch + 1))\n",
        "  plt.plot(G_loss, label=\"Generator\")\n",
        "  plt.plot(D_loss, label=\"Discriminator\")\n",
        "  plt.xlabel(\"Iterations\")\n",
        "  plt.ylabel(\"Loss\")\n",
        "  plt.legend()\n",
        "  ymax = plt.ylim()[1]\n",
        "  plt.show()\n",
        "\n",
        "  plt.figure(figsize=(10, 5))\n",
        "  plt.plot(np.arange(len(G_loss_total)), G_loss_total, label='G')\n",
        "  plt.plot(np.arange(len(D_loss_total)), D_loss_total, label='D')\n",
        "  plt.legend()\n",
        "  plt.title(\"All Time Loss\")\n",
        "  plt.show()"
      ],
      "execution_count": null,
      "outputs": []
    },
    {
      "cell_type": "code",
      "metadata": {
        "id": "w8RioNSY0CMF"
      },
      "source": [
        "checkpoint_dir = '/training_checkpoints'\n",
        "checkpoint_prefix = os.path.join(checkpoint_dir, \"ckpt\")\n",
        "checkpoint = tf.train.Checkpoint(generator_optimizer=gen_optimizer,\n",
        "                                 discriminator_optimizer=disc_optimizer,\n",
        "                                 generator=generator,\n",
        "                                 discriminator=discriminator)"
      ],
      "execution_count": null,
      "outputs": []
    },
    {
      "cell_type": "markdown",
      "metadata": {
        "id": "8lGqx7cPHKI1"
      },
      "source": [
        "Train_step:\n",
        "\n",
        "1. Create noise\n",
        "2. Generate images from noise\n",
        "3. Feed discriminator real and fake images, record results\n",
        "4. Calculate loss\n",
        "5. Calculate gradients\n",
        "6. Apply gradients\n",
        "7. Return losses"
      ]
    },
    {
      "cell_type": "code",
      "metadata": {
        "id": "-Xh9TGlWHLBG"
      },
      "source": [
        "def train_step(images, d_pretrain=5, smooth=False, noise=False):\n",
        "  #No pretraining\n",
        "  if d_pretrain == 0:\n",
        "    noise = tf.random.normal(shape=[BATCH_SIZE, CODINGS_SIZE])\n",
        "\n",
        "    with tf.GradientTape() as gen_tape, tf.GradientTape() as disc_tape:\n",
        "      #Generate Images\n",
        "      generated_images = generator(noise, training=True)\n",
        "\n",
        "      #Send real and fake images through D\n",
        "      real_output = discriminator(images, training=True)\n",
        "      fake_output = discriminator(generated_images, training=True)\n",
        "\n",
        "      #Calculate loss\n",
        "      gen_loss = generator_loss(fake_output,\n",
        "                                apply_smoothing=smooth)\n",
        "      disc_loss = discriminator_loss(real_output, \n",
        "                                     fake_output, \n",
        "                                     apply_smoothing=smooth, \n",
        "                                     apply_noise=noise)\n",
        "\n",
        "    #Get gradients\n",
        "    gen_gradients = gen_tape.gradient(gen_loss, generator.trainable_variables)\n",
        "    disc_gradients = disc_tape.gradient(disc_loss, discriminator.trainable_variables)\n",
        "\n",
        "    #Train\n",
        "    gen_optimizer.apply_gradients(zip(gen_gradients, generator.trainable_variables))\n",
        "    disc_optimizer.apply_gradients(zip(disc_gradients, discriminator.trainable_variables))\n",
        "\n",
        "  #With pretrianing\n",
        "  else:\n",
        "    #Pretrain D for d_pretrain steps\n",
        "    for i in range(d_pretrain):\n",
        "      noise = tf.random.normal(shape=[BATCH_SIZE, CODINGS_SIZE])\n",
        "\n",
        "      with tf.GradientTape() as disc_tape:\n",
        "        #Generate images\n",
        "        generated_images = generator(noise, training=True)\n",
        "\n",
        "        #Send real and fake images through D\n",
        "        real_output = discriminator(images, training=True)\n",
        "        fake_output = discriminator(generated_images, training=True)\n",
        "\n",
        "        #get D loss\n",
        "        disc_loss = discriminator_loss(real_output, \n",
        "                                       fake_output, \n",
        "                                       apply_smoothing=smooth, \n",
        "                                       apply_noise=False)\n",
        "        \n",
        "        #Get and apply D gradients\n",
        "        disc_gradients = disc_tape.gradient(disc_loss, discriminator.trainable_variables)\n",
        "        disc_optimizer.apply_gradients(zip(disc_gradients, discriminator.trainable_variables))\n",
        "\n",
        "    #Train G\n",
        "    with tf.GradientTape() as gen_tape:\n",
        "      #Generate images\n",
        "      generated_images = generator(noise, training=True)\n",
        "\n",
        "      #Get D output for fake images\n",
        "      fake_output = discriminator(generated_images, training=True)\n",
        "\n",
        "      #G loss\n",
        "      gen_loss = generator_loss(fake_output,\n",
        "                                apply_smoothing=smooth)\n",
        "      \n",
        "      #Get and apply gradients\n",
        "      gen_gradients = gen_tape.gradient(gen_loss, generator.trainable_variables)\n",
        "      gen_optimizer.apply_gradients(zip(gen_gradients, generator.trainable_variables))\n",
        "\n",
        "  return gen_loss, disc_loss\n",
        "\n",
        "def update_alpha(a, generator, discriminator):\n",
        "  for layer in generator.layers:\n",
        "    if isinstance(layer, WeightedSum):\n",
        "      backend.set_value(layer.alpha, a)\n",
        "  for layer in discriminator.layers:\n",
        "    if isinstance(layer, WeightedSum):\n",
        "      backend.set_value(layer.alpha, a)"
      ],
      "execution_count": null,
      "outputs": []
    },
    {
      "cell_type": "code",
      "metadata": {
        "id": "T_wbwDgfA8Iv"
      },
      "source": [
        "plot_step = 1\n",
        "\n",
        "def train_gan(path, generator, discriminator, epochs=50):\n",
        "  total_loss_G = np.array([])\n",
        "  total_loss_D = np.array([])\n",
        "\n",
        "  for depth in range(1, 7):                                                     #Iterate thorugh filters, skip [0] bc of init\n",
        "    \n",
        "    dataset = prepare_dataset(PATH, FILTERS[8-depth])                           #Get new dataset object with correct image sizes\n",
        "\n",
        "    generator = fade_G(generator, depth)                                        #Establish fading layers\n",
        "    discriminator = fade_D(discriminator, depth)\n",
        "\n",
        "    depth_loss_G = np.array([])\n",
        "    depth_loss_D = np.array([])\n",
        "\n",
        "    print(\"Starting depth {}\\n\".format(depth))\n",
        "    for epoch in range(epochs):\n",
        "      print(\"Starting epoch {}/{}\\n\".format(epoch, epochs))\n",
        "\n",
        "      update_alpha(epoch / epochs, generator, discriminator)\n",
        "\n",
        "      epoch_loss_G = []\n",
        "      epoch_loss_D = []\n",
        "\n",
        "      for batch in dataset:\n",
        "        g_loss, d_loss = train_step(batch, d_pretrain=3)                        #Get losses\n",
        "        epoch_loss_G.append(g_loss)\n",
        "        epoch_loss_D.append(d_loss)\n",
        "\n",
        "      depth_loss_G = np.append(depth_loss_G, np.array([epoch_loss_G]))\n",
        "      depth_loss_D = np.append(depth_loss_D, np.array([epoch_loss_D]))\n",
        "\n",
        "    \n",
        "      #Generate test images\n",
        "      noise = tf.random.normal(shape=[BATCH_SIZE, CODINGS_SIZE])                \n",
        "      generated_images = generator(noise, training=False)\n",
        "\n",
        "      #Print and plot\n",
        "      print(\"Generator Loss Mean:\", np.mean(epoch_loss_G), \"Std:\", np.std(epoch_loss_G))\n",
        "      print(\"Discriminator Loss Mean:\", np.mean(epoch_loss_D), \"Std:\", np.std(epoch_loss_D))\n",
        "      print(\"Alpha =\", epoch / epochs)\n",
        "\n",
        "      if ((epoch + 1) % plot_step == 0):\n",
        "        # plot_losses(epoch_loss_G, epoch_loss_D, all_gl, all_dl, G_mean, D_mean, epoch)\n",
        "        plot_multiple_images(generated_images, 8) \n",
        "        show_image(generated_images[0])               \n",
        "        plt.show()    \n",
        "\n",
        "    # total_loss_G = np.append(total_loss_G, np.array([depth_loss_G])\n",
        "    # total_loss_D = np.append(total_loss_D, np.array([depth_loss_D])\n",
        "\n",
        "    \n",
        "\n"
      ],
      "execution_count": null,
      "outputs": []
    },
    {
      "cell_type": "markdown",
      "metadata": {
        "id": "Vt-PBQ0BQkE_"
      },
      "source": [
        "Possible failures:\n",
        "\n",
        "1. D loss goes to 0: Failure mode\n",
        "2. If loss of G steadily goes down, it is fooling D with garbage images"
      ]
    },
    {
      "cell_type": "code",
      "metadata": {
        "colab": {
          "base_uri": "https://localhost:8080/",
          "height": 1000
        },
        "id": "j20DVBULiVhG",
        "outputId": "ffe45aaa-01dd-410d-b934-d497dde2a624"
      },
      "source": [
        "train_gan(dataset, generator, discriminator, epochs=5)"
      ],
      "execution_count": null,
      "outputs": [
        {
          "output_type": "stream",
          "name": "stdout",
          "text": [
            "Processing all images in /content/drive/MyDrive/Summer 2021 AI Research Stuff/Colab Files/Resources/reduced_landscape/\n",
            "Scaling to 4x4 pixels\n",
            "Processed 0 images\n",
            "Processed 500 images\n",
            "Processed 1000 images\n",
            "Starting depth 1\n",
            "\n",
            "Starting epoch 0/5\n",
            "\n",
            "Generator Loss Mean: 11.732925 Std: 1.1185346\n",
            "Discriminator Loss Mean: 0.29367492 Std: 0.161212\n",
            "Alpha = 0.0\n"
          ]
        },
        {
          "output_type": "display_data",
          "data": {
            "image/png": "[encoded data removed]",
            "text/plain": [
              "<Figure size 576x288 with 32 Axes>"
            ]
          },
          "metadata": {
            "needs_background": "light"
          }
        },
        {
          "output_type": "stream",
          "name": "stdout",
          "text": [
            "Starting epoch 1/5\n",
            "\n",
            "Generator Loss Mean: 12.059096 Std: 1.1316538\n",
            "Discriminator Loss Mean: 0.23320347 Std: 0.13211572\n",
            "Alpha = 0.2\n"
          ]
        },
        {
          "output_type": "display_data",
          "data": {
            "image/png": "[encoded data removed]",
            "text/plain": [
              "<Figure size 576x288 with 32 Axes>"
            ]
          },
          "metadata": {
            "needs_background": "light"
          }
        },
        {
          "output_type": "stream",
          "name": "stdout",
          "text": [
            "Starting epoch 2/5\n",
            "\n",
            "Generator Loss Mean: 12.917838 Std: 0.835663\n",
            "Discriminator Loss Mean: 0.18325639 Std: 0.14113584\n",
            "Alpha = 0.4\n"
          ]
        },
        {
          "output_type": "display_data",
          "data": {
            "image/png": "[encoded data removed]",
            "text/plain": [
              "<Figure size 576x288 with 32 Axes>"
            ]
          },
          "metadata": {
            "needs_background": "light"
          }
        },
        {
          "output_type": "stream",
          "name": "stdout",
          "text": [
            "Starting epoch 3/5\n",
            "\n",
            "Generator Loss Mean: 13.123681 Std: 0.947233\n",
            "Discriminator Loss Mean: 0.16095024 Std: 0.14270212\n",
            "Alpha = 0.6\n"
          ]
        },
        {
          "output_type": "display_data",
          "data": {
            "image/png": "[encoded data removed]",
            "text/plain": [
              "<Figure size 576x288 with 32 Axes>"
            ]
          },
          "metadata": {
            "needs_background": "light"
          }
        },
        {
          "output_type": "stream",
          "name": "stdout",
          "text": [
            "Starting epoch 4/5\n",
            "\n",
            "Generator Loss Mean: 13.482845 Std: 1.0191989\n",
            "Discriminator Loss Mean: 0.12403354 Std: 0.12682958\n",
            "Alpha = 0.8\n"
          ]
        },
        {
          "output_type": "display_data",
          "data": {
            "image/png": "[encoded data removed]",
            "text/plain": [
              "<Figure size 576x288 with 32 Axes>"
            ]
          },
          "metadata": {
            "needs_background": "light"
          }
        },
        {
          "output_type": "stream",
          "name": "stdout",
          "text": [
            "Processing all images in /content/drive/MyDrive/Summer 2021 AI Research Stuff/Colab Files/Resources/reduced_landscape/\n",
            "Scaling to 8x8 pixels\n",
            "Processed 0 images\n",
            "Processed 500 images\n",
            "Processed 1000 images\n"
          ]
        },
        {
          "output_type": "error",
          "ename": "ValueError",
          "evalue": "ignored",
          "traceback": [
            "\u001b[0;31m---------------------------------------------------------------------------\u001b[0m",
            "\u001b[0;31mValueError\u001b[0m                                Traceback (most recent call last)",
            "\u001b[0;32m<ipython-input-83-9d30d73a6324>\u001b[0m in \u001b[0;36m<module>\u001b[0;34m()\u001b[0m\n\u001b[0;32m----> 1\u001b[0;31m \u001b[0mtrain_gan\u001b[0m\u001b[0;34m(\u001b[0m\u001b[0mdataset\u001b[0m\u001b[0;34m,\u001b[0m \u001b[0mgenerator\u001b[0m\u001b[0;34m,\u001b[0m \u001b[0mdiscriminator\u001b[0m\u001b[0;34m,\u001b[0m \u001b[0mepochs\u001b[0m\u001b[0;34m=\u001b[0m\u001b[0;36m5\u001b[0m\u001b[0;34m)\u001b[0m\u001b[0;34m\u001b[0m\u001b[0;34m\u001b[0m\u001b[0m\n\u001b[0m",
            "\u001b[0;32m<ipython-input-81-d8bd81c7f3fd>\u001b[0m in \u001b[0;36mtrain_gan\u001b[0;34m(path, generator, discriminator, epochs)\u001b[0m\n\u001b[1;32m      9\u001b[0m     \u001b[0mdataset\u001b[0m \u001b[0;34m=\u001b[0m \u001b[0mprepare_dataset\u001b[0m\u001b[0;34m(\u001b[0m\u001b[0mPATH\u001b[0m\u001b[0;34m,\u001b[0m \u001b[0mFILTERS\u001b[0m\u001b[0;34m[\u001b[0m\u001b[0;36m8\u001b[0m\u001b[0;34m-\u001b[0m\u001b[0mdepth\u001b[0m\u001b[0;34m]\u001b[0m\u001b[0;34m)\u001b[0m                           \u001b[0;31m#Get new dataset object with correct image sizes\u001b[0m\u001b[0;34m\u001b[0m\u001b[0;34m\u001b[0m\u001b[0m\n\u001b[1;32m     10\u001b[0m \u001b[0;34m\u001b[0m\u001b[0m\n\u001b[0;32m---> 11\u001b[0;31m     \u001b[0mgenerator\u001b[0m \u001b[0;34m=\u001b[0m \u001b[0mfade_G\u001b[0m\u001b[0;34m(\u001b[0m\u001b[0mgenerator\u001b[0m\u001b[0;34m,\u001b[0m \u001b[0mdepth\u001b[0m\u001b[0;34m)\u001b[0m                                        \u001b[0;31m#Establish fading layers\u001b[0m\u001b[0;34m\u001b[0m\u001b[0;34m\u001b[0m\u001b[0m\n\u001b[0m\u001b[1;32m     12\u001b[0m     \u001b[0mdiscriminator\u001b[0m \u001b[0;34m=\u001b[0m \u001b[0mfade_D\u001b[0m\u001b[0;34m(\u001b[0m\u001b[0mdiscriminator\u001b[0m\u001b[0;34m,\u001b[0m \u001b[0mdepth\u001b[0m\u001b[0;34m)\u001b[0m\u001b[0;34m\u001b[0m\u001b[0;34m\u001b[0m\u001b[0m\n\u001b[1;32m     13\u001b[0m \u001b[0;34m\u001b[0m\u001b[0m\n",
            "\u001b[0;32m<ipython-input-72-6a21e504c774>\u001b[0m in \u001b[0;36mfade_G\u001b[0;34m(generator, depth)\u001b[0m\n\u001b[1;32m      7\u001b[0m   \u001b[0mold_G\u001b[0m \u001b[0;34m=\u001b[0m \u001b[0mgenerator\u001b[0m\u001b[0;34m.\u001b[0m\u001b[0mlayers\u001b[0m\u001b[0;34m[\u001b[0m\u001b[0;34m-\u001b[0m\u001b[0;36m3\u001b[0m\u001b[0;34m]\u001b[0m\u001b[0;34m(\u001b[0m\u001b[0mblock\u001b[0m\u001b[0;34m)\u001b[0m               \u001b[0;31m#conv2d_8\u001b[0m\u001b[0;34m\u001b[0m\u001b[0;34m\u001b[0m\u001b[0m\n\u001b[1;32m      8\u001b[0m   \u001b[0mold_G\u001b[0m \u001b[0;34m=\u001b[0m \u001b[0mgenerator\u001b[0m\u001b[0;34m.\u001b[0m\u001b[0mlayers\u001b[0m\u001b[0;34m[\u001b[0m\u001b[0;34m-\u001b[0m\u001b[0;36m2\u001b[0m\u001b[0;34m]\u001b[0m\u001b[0;34m(\u001b[0m\u001b[0mold_G\u001b[0m\u001b[0;34m)\u001b[0m               \u001b[0;31m#weight_scaling_11\u001b[0m\u001b[0;34m\u001b[0m\u001b[0;34m\u001b[0m\u001b[0m\n\u001b[0;32m----> 9\u001b[0;31m   \u001b[0mold_G\u001b[0m \u001b[0;34m=\u001b[0m \u001b[0mgenerator\u001b[0m\u001b[0;34m.\u001b[0m\u001b[0mlayers\u001b[0m\u001b[0;34m[\u001b[0m\u001b[0;34m-\u001b[0m\u001b[0;36m1\u001b[0m\u001b[0;34m]\u001b[0m\u001b[0;34m(\u001b[0m\u001b[0mold_G\u001b[0m\u001b[0;34m)\u001b[0m               \u001b[0;31m#activation_1\u001b[0m\u001b[0;34m\u001b[0m\u001b[0;34m\u001b[0m\u001b[0m\n\u001b[0m\u001b[1;32m     10\u001b[0m \u001b[0;34m\u001b[0m\u001b[0m\n\u001b[1;32m     11\u001b[0m   \u001b[0;31m#New block\u001b[0m\u001b[0;34m\u001b[0m\u001b[0;34m\u001b[0m\u001b[0;34m\u001b[0m\u001b[0m\n",
            "\u001b[0;32m/usr/local/lib/python3.7/dist-packages/keras/engine/base_layer.py\u001b[0m in \u001b[0;36m__call__\u001b[0;34m(self, *args, **kwargs)\u001b[0m\n\u001b[1;32m    975\u001b[0m     \u001b[0;32mif\u001b[0m \u001b[0m_in_functional_construction_mode\u001b[0m\u001b[0;34m(\u001b[0m\u001b[0mself\u001b[0m\u001b[0;34m,\u001b[0m \u001b[0minputs\u001b[0m\u001b[0;34m,\u001b[0m \u001b[0margs\u001b[0m\u001b[0;34m,\u001b[0m \u001b[0mkwargs\u001b[0m\u001b[0;34m,\u001b[0m \u001b[0minput_list\u001b[0m\u001b[0;34m)\u001b[0m\u001b[0;34m:\u001b[0m\u001b[0;34m\u001b[0m\u001b[0;34m\u001b[0m\u001b[0m\n\u001b[1;32m    976\u001b[0m       return self._functional_construction_call(inputs, args, kwargs,\n\u001b[0;32m--> 977\u001b[0;31m                                                 input_list)\n\u001b[0m\u001b[1;32m    978\u001b[0m \u001b[0;34m\u001b[0m\u001b[0m\n\u001b[1;32m    979\u001b[0m     \u001b[0;31m# Maintains info about the `Layer.call` stack.\u001b[0m\u001b[0;34m\u001b[0m\u001b[0;34m\u001b[0m\u001b[0;34m\u001b[0m\u001b[0m\n",
            "\u001b[0;32m/usr/local/lib/python3.7/dist-packages/keras/engine/base_layer.py\u001b[0m in \u001b[0;36m_functional_construction_call\u001b[0;34m(self, inputs, args, kwargs, input_list)\u001b[0m\n\u001b[1;32m   1113\u001b[0m       \u001b[0;31m# Check input assumptions set after layer building, e.g. input shape.\u001b[0m\u001b[0;34m\u001b[0m\u001b[0;34m\u001b[0m\u001b[0;34m\u001b[0m\u001b[0m\n\u001b[1;32m   1114\u001b[0m       outputs = self._keras_tensor_symbolic_call(\n\u001b[0;32m-> 1115\u001b[0;31m           inputs, input_masks, args, kwargs)\n\u001b[0m\u001b[1;32m   1116\u001b[0m \u001b[0;34m\u001b[0m\u001b[0m\n\u001b[1;32m   1117\u001b[0m       \u001b[0;32mif\u001b[0m \u001b[0moutputs\u001b[0m \u001b[0;32mis\u001b[0m \u001b[0;32mNone\u001b[0m\u001b[0;34m:\u001b[0m\u001b[0;34m\u001b[0m\u001b[0;34m\u001b[0m\u001b[0m\n",
            "\u001b[0;32m/usr/local/lib/python3.7/dist-packages/keras/engine/base_layer.py\u001b[0m in \u001b[0;36m_keras_tensor_symbolic_call\u001b[0;34m(self, inputs, input_masks, args, kwargs)\u001b[0m\n\u001b[1;32m    846\u001b[0m       \u001b[0;32mreturn\u001b[0m \u001b[0mtf\u001b[0m\u001b[0;34m.\u001b[0m\u001b[0mnest\u001b[0m\u001b[0;34m.\u001b[0m\u001b[0mmap_structure\u001b[0m\u001b[0;34m(\u001b[0m\u001b[0mkeras_tensor\u001b[0m\u001b[0;34m.\u001b[0m\u001b[0mKerasTensor\u001b[0m\u001b[0;34m,\u001b[0m \u001b[0moutput_signature\u001b[0m\u001b[0;34m)\u001b[0m\u001b[0;34m\u001b[0m\u001b[0;34m\u001b[0m\u001b[0m\n\u001b[1;32m    847\u001b[0m     \u001b[0;32melse\u001b[0m\u001b[0;34m:\u001b[0m\u001b[0;34m\u001b[0m\u001b[0;34m\u001b[0m\u001b[0m\n\u001b[0;32m--> 848\u001b[0;31m       \u001b[0;32mreturn\u001b[0m \u001b[0mself\u001b[0m\u001b[0;34m.\u001b[0m\u001b[0m_infer_output_signature\u001b[0m\u001b[0;34m(\u001b[0m\u001b[0minputs\u001b[0m\u001b[0;34m,\u001b[0m \u001b[0margs\u001b[0m\u001b[0;34m,\u001b[0m \u001b[0mkwargs\u001b[0m\u001b[0;34m,\u001b[0m \u001b[0minput_masks\u001b[0m\u001b[0;34m)\u001b[0m\u001b[0;34m\u001b[0m\u001b[0;34m\u001b[0m\u001b[0m\n\u001b[0m\u001b[1;32m    849\u001b[0m \u001b[0;34m\u001b[0m\u001b[0m\n\u001b[1;32m    850\u001b[0m   \u001b[0;32mdef\u001b[0m \u001b[0m_infer_output_signature\u001b[0m\u001b[0;34m(\u001b[0m\u001b[0mself\u001b[0m\u001b[0;34m,\u001b[0m \u001b[0minputs\u001b[0m\u001b[0;34m,\u001b[0m \u001b[0margs\u001b[0m\u001b[0;34m,\u001b[0m \u001b[0mkwargs\u001b[0m\u001b[0;34m,\u001b[0m \u001b[0minput_masks\u001b[0m\u001b[0;34m)\u001b[0m\u001b[0;34m:\u001b[0m\u001b[0;34m\u001b[0m\u001b[0;34m\u001b[0m\u001b[0m\n",
            "\u001b[0;32m/usr/local/lib/python3.7/dist-packages/keras/engine/base_layer.py\u001b[0m in \u001b[0;36m_infer_output_signature\u001b[0;34m(self, inputs, args, kwargs, input_masks)\u001b[0m\n\u001b[1;32m    886\u001b[0m           \u001b[0mself\u001b[0m\u001b[0;34m.\u001b[0m\u001b[0m_maybe_build\u001b[0m\u001b[0;34m(\u001b[0m\u001b[0minputs\u001b[0m\u001b[0;34m)\u001b[0m\u001b[0;34m\u001b[0m\u001b[0;34m\u001b[0m\u001b[0m\n\u001b[1;32m    887\u001b[0m           \u001b[0minputs\u001b[0m \u001b[0;34m=\u001b[0m \u001b[0mself\u001b[0m\u001b[0;34m.\u001b[0m\u001b[0m_maybe_cast_inputs\u001b[0m\u001b[0;34m(\u001b[0m\u001b[0minputs\u001b[0m\u001b[0;34m)\u001b[0m\u001b[0;34m\u001b[0m\u001b[0;34m\u001b[0m\u001b[0m\n\u001b[0;32m--> 888\u001b[0;31m           \u001b[0moutputs\u001b[0m \u001b[0;34m=\u001b[0m \u001b[0mcall_fn\u001b[0m\u001b[0;34m(\u001b[0m\u001b[0minputs\u001b[0m\u001b[0;34m,\u001b[0m \u001b[0;34m*\u001b[0m\u001b[0margs\u001b[0m\u001b[0;34m,\u001b[0m \u001b[0;34m**\u001b[0m\u001b[0mkwargs\u001b[0m\u001b[0;34m)\u001b[0m\u001b[0;34m\u001b[0m\u001b[0;34m\u001b[0m\u001b[0m\n\u001b[0m\u001b[1;32m    889\u001b[0m \u001b[0;34m\u001b[0m\u001b[0m\n\u001b[1;32m    890\u001b[0m         \u001b[0mself\u001b[0m\u001b[0;34m.\u001b[0m\u001b[0m_handle_activity_regularization\u001b[0m\u001b[0;34m(\u001b[0m\u001b[0minputs\u001b[0m\u001b[0;34m,\u001b[0m \u001b[0moutputs\u001b[0m\u001b[0;34m)\u001b[0m\u001b[0;34m\u001b[0m\u001b[0;34m\u001b[0m\u001b[0m\n",
            "\u001b[0;32m/usr/local/lib/python3.7/dist-packages/tensorflow/python/autograph/impl/api.py\u001b[0m in \u001b[0;36mwrapper\u001b[0;34m(*args, **kwargs)\u001b[0m\n\u001b[1;32m    690\u001b[0m       \u001b[0;32mtry\u001b[0m\u001b[0;34m:\u001b[0m\u001b[0;34m\u001b[0m\u001b[0;34m\u001b[0m\u001b[0m\n\u001b[1;32m    691\u001b[0m         \u001b[0;32mwith\u001b[0m \u001b[0mconversion_ctx\u001b[0m\u001b[0;34m:\u001b[0m\u001b[0;34m\u001b[0m\u001b[0;34m\u001b[0m\u001b[0m\n\u001b[0;32m--> 692\u001b[0;31m           \u001b[0;32mreturn\u001b[0m \u001b[0mconverted_call\u001b[0m\u001b[0;34m(\u001b[0m\u001b[0mf\u001b[0m\u001b[0;34m,\u001b[0m \u001b[0margs\u001b[0m\u001b[0;34m,\u001b[0m \u001b[0mkwargs\u001b[0m\u001b[0;34m,\u001b[0m \u001b[0moptions\u001b[0m\u001b[0;34m=\u001b[0m\u001b[0moptions\u001b[0m\u001b[0;34m)\u001b[0m\u001b[0;34m\u001b[0m\u001b[0;34m\u001b[0m\u001b[0m\n\u001b[0m\u001b[1;32m    693\u001b[0m       \u001b[0;32mexcept\u001b[0m \u001b[0mException\u001b[0m \u001b[0;32mas\u001b[0m \u001b[0me\u001b[0m\u001b[0;34m:\u001b[0m  \u001b[0;31m# pylint:disable=broad-except\u001b[0m\u001b[0;34m\u001b[0m\u001b[0;34m\u001b[0m\u001b[0m\n\u001b[1;32m    694\u001b[0m         \u001b[0;32mif\u001b[0m \u001b[0mhasattr\u001b[0m\u001b[0;34m(\u001b[0m\u001b[0me\u001b[0m\u001b[0;34m,\u001b[0m \u001b[0;34m'ag_error_metadata'\u001b[0m\u001b[0;34m)\u001b[0m\u001b[0;34m:\u001b[0m\u001b[0;34m\u001b[0m\u001b[0;34m\u001b[0m\u001b[0m\n",
            "\u001b[0;32m/usr/local/lib/python3.7/dist-packages/tensorflow/python/autograph/impl/api.py\u001b[0m in \u001b[0;36mconverted_call\u001b[0;34m(f, args, kwargs, caller_fn_scope, options)\u001b[0m\n\u001b[1;32m    334\u001b[0m   \u001b[0;32mif\u001b[0m \u001b[0mconversion\u001b[0m\u001b[0;34m.\u001b[0m\u001b[0mis_in_allowlist_cache\u001b[0m\u001b[0;34m(\u001b[0m\u001b[0mf\u001b[0m\u001b[0;34m,\u001b[0m \u001b[0moptions\u001b[0m\u001b[0;34m)\u001b[0m\u001b[0;34m:\u001b[0m\u001b[0;34m\u001b[0m\u001b[0;34m\u001b[0m\u001b[0m\n\u001b[1;32m    335\u001b[0m     \u001b[0mlogging\u001b[0m\u001b[0;34m.\u001b[0m\u001b[0mlog\u001b[0m\u001b[0;34m(\u001b[0m\u001b[0;36m2\u001b[0m\u001b[0;34m,\u001b[0m \u001b[0;34m'Allowlisted %s: from cache'\u001b[0m\u001b[0;34m,\u001b[0m \u001b[0mf\u001b[0m\u001b[0;34m)\u001b[0m\u001b[0;34m\u001b[0m\u001b[0;34m\u001b[0m\u001b[0m\n\u001b[0;32m--> 336\u001b[0;31m     \u001b[0;32mreturn\u001b[0m \u001b[0m_call_unconverted\u001b[0m\u001b[0;34m(\u001b[0m\u001b[0mf\u001b[0m\u001b[0;34m,\u001b[0m \u001b[0margs\u001b[0m\u001b[0;34m,\u001b[0m \u001b[0mkwargs\u001b[0m\u001b[0;34m,\u001b[0m \u001b[0moptions\u001b[0m\u001b[0;34m,\u001b[0m \u001b[0;32mFalse\u001b[0m\u001b[0;34m)\u001b[0m\u001b[0;34m\u001b[0m\u001b[0;34m\u001b[0m\u001b[0m\n\u001b[0m\u001b[1;32m    337\u001b[0m \u001b[0;34m\u001b[0m\u001b[0m\n\u001b[1;32m    338\u001b[0m   \u001b[0;32mif\u001b[0m \u001b[0mag_ctx\u001b[0m\u001b[0;34m.\u001b[0m\u001b[0mcontrol_status_ctx\u001b[0m\u001b[0;34m(\u001b[0m\u001b[0;34m)\u001b[0m\u001b[0;34m.\u001b[0m\u001b[0mstatus\u001b[0m \u001b[0;34m==\u001b[0m \u001b[0mag_ctx\u001b[0m\u001b[0;34m.\u001b[0m\u001b[0mStatus\u001b[0m\u001b[0;34m.\u001b[0m\u001b[0mDISABLED\u001b[0m\u001b[0;34m:\u001b[0m\u001b[0;34m\u001b[0m\u001b[0;34m\u001b[0m\u001b[0m\n",
            "\u001b[0;32m/usr/local/lib/python3.7/dist-packages/tensorflow/python/autograph/impl/api.py\u001b[0m in \u001b[0;36m_call_unconverted\u001b[0;34m(f, args, kwargs, options, update_cache)\u001b[0m\n\u001b[1;32m    461\u001b[0m \u001b[0;34m\u001b[0m\u001b[0m\n\u001b[1;32m    462\u001b[0m   \u001b[0;32mif\u001b[0m \u001b[0mkwargs\u001b[0m \u001b[0;32mis\u001b[0m \u001b[0;32mnot\u001b[0m \u001b[0;32mNone\u001b[0m\u001b[0;34m:\u001b[0m\u001b[0;34m\u001b[0m\u001b[0;34m\u001b[0m\u001b[0m\n\u001b[0;32m--> 463\u001b[0;31m     \u001b[0;32mreturn\u001b[0m \u001b[0mf\u001b[0m\u001b[0;34m(\u001b[0m\u001b[0;34m*\u001b[0m\u001b[0margs\u001b[0m\u001b[0;34m,\u001b[0m \u001b[0;34m**\u001b[0m\u001b[0mkwargs\u001b[0m\u001b[0;34m)\u001b[0m\u001b[0;34m\u001b[0m\u001b[0;34m\u001b[0m\u001b[0m\n\u001b[0m\u001b[1;32m    464\u001b[0m   \u001b[0;32mreturn\u001b[0m \u001b[0mf\u001b[0m\u001b[0;34m(\u001b[0m\u001b[0;34m*\u001b[0m\u001b[0margs\u001b[0m\u001b[0;34m)\u001b[0m\u001b[0;34m\u001b[0m\u001b[0;34m\u001b[0m\u001b[0m\n\u001b[1;32m    465\u001b[0m \u001b[0;34m\u001b[0m\u001b[0m\n",
            "\u001b[0;32m/usr/local/lib/python3.7/dist-packages/keras/layers/merge.py\u001b[0m in \u001b[0;36mcall\u001b[0;34m(self, inputs)\u001b[0m\n\u001b[1;32m    115\u001b[0m   \u001b[0;32mdef\u001b[0m \u001b[0mcall\u001b[0m\u001b[0;34m(\u001b[0m\u001b[0mself\u001b[0m\u001b[0;34m,\u001b[0m \u001b[0minputs\u001b[0m\u001b[0;34m)\u001b[0m\u001b[0;34m:\u001b[0m\u001b[0;34m\u001b[0m\u001b[0;34m\u001b[0m\u001b[0m\n\u001b[1;32m    116\u001b[0m     \u001b[0;32mif\u001b[0m \u001b[0;32mnot\u001b[0m \u001b[0misinstance\u001b[0m\u001b[0;34m(\u001b[0m\u001b[0minputs\u001b[0m\u001b[0;34m,\u001b[0m \u001b[0;34m(\u001b[0m\u001b[0mlist\u001b[0m\u001b[0;34m,\u001b[0m \u001b[0mtuple\u001b[0m\u001b[0;34m)\u001b[0m\u001b[0;34m)\u001b[0m\u001b[0;34m:\u001b[0m\u001b[0;34m\u001b[0m\u001b[0;34m\u001b[0m\u001b[0m\n\u001b[0;32m--> 117\u001b[0;31m       \u001b[0;32mraise\u001b[0m \u001b[0mValueError\u001b[0m\u001b[0;34m(\u001b[0m\u001b[0;34m'A merge layer should be called on a list of inputs.'\u001b[0m\u001b[0;34m)\u001b[0m\u001b[0;34m\u001b[0m\u001b[0;34m\u001b[0m\u001b[0m\n\u001b[0m\u001b[1;32m    118\u001b[0m     \u001b[0;32mif\u001b[0m \u001b[0mself\u001b[0m\u001b[0;34m.\u001b[0m\u001b[0m_reshape_required\u001b[0m\u001b[0;34m:\u001b[0m\u001b[0;34m\u001b[0m\u001b[0;34m\u001b[0m\u001b[0m\n\u001b[1;32m    119\u001b[0m       \u001b[0mreshaped_inputs\u001b[0m \u001b[0;34m=\u001b[0m \u001b[0;34m[\u001b[0m\u001b[0;34m]\u001b[0m\u001b[0;34m\u001b[0m\u001b[0;34m\u001b[0m\u001b[0m\n",
            "\u001b[0;31mValueError\u001b[0m: A merge layer should be called on a list of inputs."
          ]
        }
      ]
    }
  ]
}