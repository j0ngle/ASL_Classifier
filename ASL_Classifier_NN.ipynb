{
  "nbformat": 4,
  "nbformat_minor": 0,
  "metadata": {
    "colab": {
      "name": "ASL_Classifier_NN.ipynb",
      "provenance": [],
      "collapsed_sections": [],
      "mount_file_id": "19nqvecRRvXCKRcH3VuyMToPcKwillEhh",
      "authorship_tag": "ABX9TyOL0KuWHvHil6QtQKW6jKi7",
      "include_colab_link": true
    },
    "kernelspec": {
      "name": "python3",
      "display_name": "Python 3"
    },
    "language_info": {
      "name": "python"
    }
  },
  "cells": [
    {
      "cell_type": "markdown",
      "metadata": {
        "id": "view-in-github",
        "colab_type": "text"
      },
      "source": [
        "<a href=\"https://colab.research.google.com/github/j0ngle/ASL_Classifier/blob/main/ASL_Classifier_NN.ipynb\" target=\"_parent\"><img src=\"https://colab.research.google.com/assets/colab-badge.svg\" alt=\"Open In Colab\"/></a>"
      ]
    },
    {
      "cell_type": "markdown",
      "metadata": {
        "id": "S4g54KylQYMq"
      },
      "source": [
        "Task: Create a neural network to classify ASL alphabet signs"
      ]
    },
    {
      "cell_type": "markdown",
      "metadata": {
        "id": "imjFlZrvRJbG"
      },
      "source": [
        "# Preprocessing Data"
      ]
    },
    {
      "cell_type": "markdown",
      "metadata": {
        "id": "bGPWv899Gyhj"
      },
      "source": [
        "The following code was run locally to preprocess the images it completes the following tasks:\n",
        "\n",
        "1. Converts each image to a numpy array\n",
        "\n",
        "2. Grayscales the images\n",
        "\n",
        "3. Scales images from 200x200 to 50x50\n",
        "\n",
        "4. Saves all information to csv files as strings"
      ]
    },
    {
      "cell_type": "code",
      "metadata": {
        "id": "xuhOrhd5pGuU"
      },
      "source": [
        "# import numpy as np\n",
        "# import pandas as pd\n",
        "# import cv2\n",
        "# import os\n",
        "# import ast\n",
        "# import sys\n",
        "\n",
        "# def process_image(img_path):\n",
        "#     #Convert to numpy array\n",
        "#     img = cv2.imread(img_path)\n",
        "\n",
        "#     #Grayscale image\n",
        "#     img = np.dot(img[...,:3], [.2989, .5870, .1140])\n",
        "\n",
        "#     #Resize image\n",
        "#     img = cv2.resize(img, dsize=(50, 50), interpolation=cv2.INTER_NEAREST)\n",
        "\n",
        "#     return img\n",
        "\n",
        "\n",
        "# ######################################\n",
        "# #TRAIN\n",
        "\n",
        "\n",
        "# save_path = \"\"\n",
        "\n",
        "# train_path = \"asl_alphabet_train/\"\n",
        "\n",
        "# total = 87000\n",
        "# iter = 0\n",
        "\n",
        "# train_images = [None] * total\n",
        "# train_labels = [None] * total\n",
        "\n",
        "\n",
        "\n",
        "# for folder in os.listdir(train_path):\n",
        "\n",
        "#   folder_path = train_path + folder + \"/\"\n",
        "#   print(\"Processing folder: \", folder)\n",
        "\n",
        "#   for filename in os.listdir(train_path + folder):\n",
        "#     if filename.endswith(\"jpg\"):\n",
        "#         img = None\n",
        "\n",
        "#         img = process_image(folder_path + filename)\n",
        "\n",
        "#         #Reshape image for easy conversion later\n",
        "#         train_images[iter] = np.reshape(img, (-1, 50*50))\n",
        "#         train_labels[iter] = folder\n",
        "\n",
        "#         iter += 1\n",
        "\n",
        "\n",
        "# train_whole = pd.DataFrame()\n",
        "# train_whole['images'] = train_images\n",
        "# train_whole['labels'] = train_labels\n",
        "\n",
        "# np.set_printoptions(threshold=sys.maxsize)\n",
        "\n",
        "# train_whole.to_csv('ASL_train.csv')\n",
        "\n",
        "# print(\"Done!\\n\")\n",
        "\n",
        "# ######################################\n",
        "# #TEST\n",
        "# print(\"Started processing test images\")\n",
        "\n",
        "# test_path = \"asl_alphabet_test/\"\n",
        "\n",
        "# test_images = []\n",
        "# test_labels = []\n",
        "\n",
        "# for filename in os.listdir(test_path):\n",
        "#   if filename.endswith(\"jpg\"):\n",
        "#     print(\"Processing: \", filename)\n",
        "#     img = process_image(test_path + filename)\n",
        "#     test_images.append(np.reshape(img, (-1, 50*50)))\n",
        "#     #test_images.append(img)\n",
        "\n",
        "#     s = filename.split('_')\n",
        "#     test_labels.append(s[0])\n",
        "\n",
        "\n",
        "# test_whole = pd.DataFrame()\n",
        "# test_whole['images'] = test_images\n",
        "# test_whole['labels'] = test_labels\n",
        "\n",
        "# test_whole.to_csv('ASL_test.csv')"
      ],
      "execution_count": null,
      "outputs": []
    },
    {
      "cell_type": "markdown",
      "metadata": {
        "id": "CeIkVriRhzdK"
      },
      "source": [
        "Getting the and processing the CSVs"
      ]
    },
    {
      "cell_type": "code",
      "metadata": {
        "id": "k_c2hZVQXSvu"
      },
      "source": [
        "import os\n",
        "import pandas as pd\n",
        "\n",
        "HOUSING_PATH = os.path.join(\"datasets\", \"asl\")\n",
        "os.makedirs(HOUSING_PATH, exist_ok=True)\n",
        "\n",
        "def get_csv_path(filename, path):\n",
        "  csv_path = os.path.join(path, filename)\n",
        "  return pd.read_csv(csv_path)"
      ],
      "execution_count": null,
      "outputs": []
    },
    {
      "cell_type": "code",
      "metadata": {
        "colab": {
          "base_uri": "https://localhost:8080/",
          "height": 204
        },
        "id": "RxAEnQvDH_X1",
        "outputId": "856a12aa-0dd2-4fea-d382-037437a20ad7"
      },
      "source": [
        "train_whole = get_csv_path('ASL_train.csv', '/content/drive/MyDrive/Summer 2021 AI Research Stuff/Colab Files/Resources/')\n",
        "test_whole = get_csv_path('ASL_test.csv', '/content/drive/MyDrive/Summer 2021 AI Research Stuff/Colab Files/Resources/')\n",
        "\n",
        "train_whole.head()"
      ],
      "execution_count": null,
      "outputs": [
        {
          "output_type": "execute_result",
          "data": {
            "text/html": [
              "<div>\n",
              "<style scoped>\n",
              "    .dataframe tbody tr th:only-of-type {\n",
              "        vertical-align: middle;\n",
              "    }\n",
              "\n",
              "    .dataframe tbody tr th {\n",
              "        vertical-align: top;\n",
              "    }\n",
              "\n",
              "    .dataframe thead th {\n",
              "        text-align: right;\n",
              "    }\n",
              "</style>\n",
              "<table border=\"1\" class=\"dataframe\">\n",
              "  <thead>\n",
              "    <tr style=\"text-align: right;\">\n",
              "      <th></th>\n",
              "      <th>Unnamed: 0</th>\n",
              "      <th>images</th>\n",
              "      <th>labels</th>\n",
              "    </tr>\n",
              "  </thead>\n",
              "  <tbody>\n",
              "    <tr>\n",
              "      <th>0</th>\n",
              "      <td>0</td>\n",
              "      <td>[[ 76.6108  74.1272  75.1379  74.3937  74.2134...</td>\n",
              "      <td>A</td>\n",
              "    </tr>\n",
              "    <tr>\n",
              "      <th>1</th>\n",
              "      <td>1</td>\n",
              "      <td>[[ 78.8448  72.0349  75.1379  74.9314  74.0886...</td>\n",
              "      <td>A</td>\n",
              "    </tr>\n",
              "    <tr>\n",
              "      <th>2</th>\n",
              "      <td>2</td>\n",
              "      <td>[[ 80.3177  74.0455  75.4799  73.4477  76.4043...</td>\n",
              "      <td>A</td>\n",
              "    </tr>\n",
              "    <tr>\n",
              "      <th>3</th>\n",
              "      <td>3</td>\n",
              "      <td>[[ 80.0296  73.6156  75.2519  76.5291  72.9316...</td>\n",
              "      <td>A</td>\n",
              "    </tr>\n",
              "    <tr>\n",
              "      <th>4</th>\n",
              "      <td>4</td>\n",
              "      <td>[[ 77.6816  73.138   72.779   72.0133  72.9038...</td>\n",
              "      <td>A</td>\n",
              "    </tr>\n",
              "  </tbody>\n",
              "</table>\n",
              "</div>"
            ],
            "text/plain": [
              "   Unnamed: 0                                             images labels\n",
              "0           0  [[ 76.6108  74.1272  75.1379  74.3937  74.2134...      A\n",
              "1           1  [[ 78.8448  72.0349  75.1379  74.9314  74.0886...      A\n",
              "2           2  [[ 80.3177  74.0455  75.4799  73.4477  76.4043...      A\n",
              "3           3  [[ 80.0296  73.6156  75.2519  76.5291  72.9316...      A\n",
              "4           4  [[ 77.6816  73.138   72.779   72.0133  72.9038...      A"
            ]
          },
          "metadata": {
            "tags": []
          },
          "execution_count": 3
        }
      ]
    },
    {
      "cell_type": "markdown",
      "metadata": {
        "id": "8lvmiSu0HRMM"
      },
      "source": [
        "The image data is saved to the csv as strings of 1D arrays of length 2500. Because of how Pandas' to_csv works, there are new line characters every 8 entries. Below are the steps to convert these string back to numpy arrays\n",
        "\n",
        "1. Get rid of end brackets by getting the substring of each image from index 2 to index len(< str >) - 2\n",
        "\n",
        "2. Use numpy's .fromstring function on \\n separators to convert the string to an array\n",
        "\n",
        "3. Reshape the numpy array with .reshape to get the original 50x50 image\n",
        "\n",
        "After the list is filled, I am going to ditch the dataframe and convert all of the lists to numpy arrays. I had previously replaced the index in the dataframe with updated values, but that wasn't playing nice with model.fit() later. Sending them straight to numpy arrays with .asarray() should address this problem\n",
        "\n",
        "Another Note: I forgot that I need my labels to be integers and I'm not running the preprocessing step again, so I'm just going to encode them manually here"
      ]
    },
    {
      "cell_type": "code",
      "metadata": {
        "id": "UdsnvM9MCu4o"
      },
      "source": [
        "import numpy as np\n",
        "\n",
        "length = len(train_whole['images'])\n",
        "img_array_train = [None] * length\n",
        "label_array_train = [None] * length\n",
        "\n",
        "for i in range(0, length):\n",
        "  #Grab image\n",
        "  img = train_whole['images'][i]\n",
        "\n",
        "  #Get substring (omitting brackets)\n",
        "  img = img[2:len(img) - 2]\n",
        "\n",
        "  #Convert to array, reshape, and add to new list\n",
        "  img_array_train[i] = np.fromstring(img, sep='\\n').reshape(50, 50)\n",
        "\n",
        "  #Handling labels\n",
        "  label = train_whole['labels'][i]\n",
        "  if len(label) == 1:\n",
        "    label_array_train[i] = ord(label) - ord('A')\n",
        "  else:\n",
        "    if label == 'nothing':\n",
        "      label_array_train[i] = 26\n",
        "    elif label == 'space':\n",
        "      label_array_train[i] = 27\n",
        "    elif label == 'del':\n",
        "      label_array_train[i] = 28\n",
        "\n",
        "length = len(test_whole['images'])\n",
        "img_array_test = [None] * length\n",
        "label_array_test = [None] * length\n",
        "\n",
        "for i in range(0, length):\n",
        "  img = test_whole['images'][i]\n",
        "\n",
        "  img = img[2:len(img) - 2]\n",
        "\n",
        "  img_array_test[i] = np.fromstring(img, sep='\\n').reshape(50, 50)\n",
        "\n",
        "  label = test_whole['labels'][i]\n",
        "  if len(label) == 1:\n",
        "    label_array_test[i] = ord(label) - ord('A')\n",
        "  else:\n",
        "    if label == 'nothing':\n",
        "      label_array_test[i] = 26\n",
        "    elif label == 'space':\n",
        "      label_array_test[i] = 27\n",
        "    elif label == 'del':\n",
        "      label_array_test[i] = 28"
      ],
      "execution_count": null,
      "outputs": []
    },
    {
      "cell_type": "code",
      "metadata": {
        "id": "8iOTHaW9W7LQ"
      },
      "source": [
        "class_names = ['A', 'B', 'C', 'D', 'E', 'F', 'G', 'H', 'I', 'J', 'K', 'L',\n",
        "       'M', 'N', 'O', 'P', 'Q', 'R', 'S', 'T', 'U',\n",
        "       'V', 'W', 'X', 'Y', 'Z', 'nothing', 'space', 'del']"
      ],
      "execution_count": null,
      "outputs": []
    },
    {
      "cell_type": "code",
      "metadata": {
        "id": "U3iU_7m9oKct"
      },
      "source": [
        "from sklearn.utils import shuffle\n",
        "\n",
        "#x represents data\n",
        "#y represents labels\n",
        "x_train_whole = shuffle(np.asarray(img_array_train), random_state=42)\n",
        "y_train_whole = shuffle(np.asarray(label_array_train), random_state=42)\n",
        "\n",
        "#Testing images provided by Kaggle contributor.\n",
        "#Only 1 image per sign\n",
        "#I don't think I'll need to shuffle this, but the code is here just in case\n",
        "# x_test_small = shuffle(np.asarray(img_array_test), random_state=42)\n",
        "# y_test_small = shuffle(np.asarray(label_array_test), random_state=42)\n",
        "\n",
        "#Grabbing roughly 20% (~17000 instances) of the training set to use\n",
        "#as a larger scale testing set\n",
        "#Dividing by 255 to reduce the complexity of the inputs, putting them in a range\n",
        "#0-1\n",
        "x_test, x_train = x_train_whole[:17000] / 255.0, x_train_whole[17000:] / 255.0\n",
        "y_test, y_train = y_train_whole[:17000], y_train_whole[17000:]"
      ],
      "execution_count": null,
      "outputs": []
    },
    {
      "cell_type": "code",
      "metadata": {
        "colab": {
          "base_uri": "https://localhost:8080/"
        },
        "id": "y3Iol4WisDAR",
        "outputId": "8d7819fd-5d28-4cf4-b327-89622fbf1f88"
      },
      "source": [
        "print(x_train.shape)\n",
        "print(y_train.shape)\n",
        "print(x_test.shape)\n",
        "print(y_test.shape)"
      ],
      "execution_count": null,
      "outputs": [
        {
          "output_type": "stream",
          "text": [
            "(70000, 50, 50)\n",
            "(70000,)\n",
            "(17000, 50, 50)\n",
            "(17000,)\n"
          ],
          "name": "stdout"
        }
      ]
    },
    {
      "cell_type": "markdown",
      "metadata": {
        "id": "kqCuZ98pE-_2"
      },
      "source": [
        "Just confirming that the data is formatted correctly"
      ]
    },
    {
      "cell_type": "code",
      "metadata": {
        "id": "y6FV2F0FLSEB"
      },
      "source": [
        "import matplotlib as mpl\n",
        "import matplotlib.pyplot as plt\n",
        "import matplotlib.image as mpimg\n",
        "import cv2\n",
        "\n",
        "def plot_sign(img, label):\n",
        "  plt.imshow(img, cmap='binary')\n",
        "  plt.axis('off')\n",
        "  plt.show()\n",
        "  print(\"Label: \", class_names[label])"
      ],
      "execution_count": null,
      "outputs": []
    },
    {
      "cell_type": "code",
      "metadata": {
        "colab": {
          "base_uri": "https://localhost:8080/",
          "height": 265
        },
        "id": "aEpzT88KglhW",
        "outputId": "0af9b66c-bb13-4c30-d6ec-7f9cb7641236"
      },
      "source": [
        "instance = 0\n",
        "plot_sign(x_train[instance], y_train[instance])"
      ],
      "execution_count": null,
      "outputs": [
        {
          "output_type": "display_data",
          "data": {
            "image/png": "[encoded data removed]",
            "text/plain": [
              "<Figure size 432x288 with 1 Axes>"
            ]
          },
          "metadata": {
            "tags": [],
            "needs_background": "light"
          }
        },
        {
          "output_type": "stream",
          "text": [
            "Label:  K\n"
          ],
          "name": "stdout"
        }
      ]
    },
    {
      "cell_type": "markdown",
      "metadata": {
        "id": "dGEaHYeKG8E4"
      },
      "source": [
        "All of the data appears to be formatted and labeled correctly. The Kaggle contibutor incluced a test set, but there is only 1 image for each sign (totalling 29 images including del, nothing, and space).\n",
        "\n",
        "I'm going to make a new test set containing about 20% of all of the training data and then a validation set containing a fraction of what remains. This way there is adequate material to train, validate, and test on"
      ]
    },
    {
      "cell_type": "markdown",
      "metadata": {
        "id": "_tVV7dl3MVk-"
      },
      "source": [
        "# Creating the Model"
      ]
    },
    {
      "cell_type": "markdown",
      "metadata": {
        "id": "Owh_RoLdqJGu"
      },
      "source": [
        "I ran the sequential model as follows 1st and achieved and accuracy of .9526 on the training data and .9445 on the validation data! \n",
        "\n",
        "~~~\n",
        "model = keras.models.Sequential()\n",
        "model.add(keras.layers.Flatten(input_shape=[50, 50]))\n",
        "model.add(keras.layers.Dense(300, activation=\"relu\"))\n",
        "model.add(keras.layers.Dense(100, activation=\"relu\"))\n",
        "model.add(keras.layers.Dense(29, activation=\"softmax\"))\n",
        "~~~\n",
        "\n",
        "\n",
        "Based on the graph, it doesn't look like it had converged quite yet, so I could stand to run it again for a few more epochs.\n",
        "\n",
        "Before I do that, I read that adding a Batch Normalization layer between each hidden layer can improve results and is almost expected in NN models. So I'm going to run the following model and see how it performs. It also says that for 2 hidden layers it probably won't help much, but it's good to have\n",
        "\n",
        "~~~\n",
        "model = keras.models.Sequential([\n",
        "                  keras.layers.Flatten(input_shape=[50, 50]),\n",
        "                  keras.layers.BatchNormalization(),\n",
        "                  keras.layers.Dense(300, activation=\"relu\"),\n",
        "                  keras.layers.BatchNormalization(),   \n",
        "                  keras.layers.Dense(100, activation=\"relu\"),\n",
        "                  keras.layers.BatchNormalization(),     \n",
        "                  keras.layers.Dense(29, activation=\"softmax\") \n",
        "])\n",
        "~~~\n",
        "\n",
        "Turns out Batch Normalization helped a lot here! I finished with a training accuracy of .9698 and a validation accuracy of .9814. And it seems like the model converged within 30 epochs this time, so there is no need to run it again"
      ]
    },
    {
      "cell_type": "code",
      "metadata": {
        "id": "4YyUmzLUMYws"
      },
      "source": [
        "import tensorflow as tf\n",
        "from tensorflow import keras\n",
        "\n",
        "model = keras.models.Sequential([\n",
        "                  keras.layers.Flatten(input_shape=[50, 50]),\n",
        "                  keras.layers.BatchNormalization(),\n",
        "                  keras.layers.Dense(300, activation=\"relu\"),\n",
        "                  keras.layers.BatchNormalization(),   \n",
        "                  keras.layers.Dense(100, activation=\"relu\"),\n",
        "                  keras.layers.BatchNormalization(),     \n",
        "                  keras.layers.Dense(29, activation=\"softmax\") \n",
        "])"
      ],
      "execution_count": null,
      "outputs": []
    },
    {
      "cell_type": "code",
      "metadata": {
        "colab": {
          "base_uri": "https://localhost:8080/"
        },
        "id": "GKGehLYJMq0p",
        "outputId": "9f6cd80b-0549-441e-a07e-3e7663797ed1"
      },
      "source": [
        "model.summary()"
      ],
      "execution_count": null,
      "outputs": [
        {
          "output_type": "stream",
          "text": [
            "Model: \"sequential\"\n",
            "_________________________________________________________________\n",
            "Layer (type)                 Output Shape              Param #   \n",
            "=================================================================\n",
            "flatten (Flatten)            (None, 2500)              0         \n",
            "_________________________________________________________________\n",
            "batch_normalization (BatchNo (None, 2500)              10000     \n",
            "_________________________________________________________________\n",
            "dense (Dense)                (None, 300)               750300    \n",
            "_________________________________________________________________\n",
            "batch_normalization_1 (Batch (None, 300)               1200      \n",
            "_________________________________________________________________\n",
            "dense_1 (Dense)              (None, 100)               30100     \n",
            "_________________________________________________________________\n",
            "batch_normalization_2 (Batch (None, 100)               400       \n",
            "_________________________________________________________________\n",
            "dense_2 (Dense)              (None, 29)                2929      \n",
            "=================================================================\n",
            "Total params: 794,929\n",
            "Trainable params: 789,129\n",
            "Non-trainable params: 5,800\n",
            "_________________________________________________________________\n"
          ],
          "name": "stdout"
        }
      ]
    },
    {
      "cell_type": "markdown",
      "metadata": {
        "id": "PHKhhW3kly6u"
      },
      "source": [
        "We are using sparse categorical crossentropy because the labels are integer values representing indoces in the class list. \n",
        "\n",
        "Categorical crossentropy requires one hot encoding of our labels to work properly.\n",
        "\n",
        "Sparse is a little misleading in that it appears to imply that we do not have labels for all of our values, but rather it is just basically saying they aren't one-hot encoded"
      ]
    },
    {
      "cell_type": "code",
      "metadata": {
        "id": "6lV1KVOjNRz4"
      },
      "source": [
        "model.compile(loss=\"sparse_categorical_crossentropy\",\n",
        "              optimizer=\"sgd\",\n",
        "              metrics=[\"accuracy\"])"
      ],
      "execution_count": null,
      "outputs": []
    },
    {
      "cell_type": "code",
      "metadata": {
        "colab": {
          "base_uri": "https://localhost:8080/"
        },
        "id": "ry_9zOiZNebw",
        "outputId": "b4c5f03c-150e-4aa2-e17d-886ee590fa57"
      },
      "source": [
        "history = model.fit(x_train, y_train, \n",
        "                    epochs=30,\n",
        "                    validation_split=0.08)"
      ],
      "execution_count": null,
      "outputs": [
        {
          "output_type": "stream",
          "text": [
            "Epoch 1/30\n",
            "2013/2013 [==============================] - 38s 18ms/step - loss: 1.6621 - accuracy: 0.5111 - val_loss: 0.9714 - val_accuracy: 0.7100\n",
            "Epoch 2/30\n",
            "2013/2013 [==============================] - 36s 18ms/step - loss: 0.9046 - accuracy: 0.7229 - val_loss: 0.6866 - val_accuracy: 0.7791\n",
            "Epoch 3/30\n",
            "2013/2013 [==============================] - 34s 17ms/step - loss: 0.6599 - accuracy: 0.7943 - val_loss: 0.4946 - val_accuracy: 0.8529\n",
            "Epoch 4/30\n",
            "2013/2013 [==============================] - 34s 17ms/step - loss: 0.5273 - accuracy: 0.8345 - val_loss: 0.4497 - val_accuracy: 0.8621\n",
            "Epoch 5/30\n",
            "2013/2013 [==============================] - 34s 17ms/step - loss: 0.4401 - accuracy: 0.8618 - val_loss: 0.3745 - val_accuracy: 0.8804\n",
            "Epoch 6/30\n",
            "2013/2013 [==============================] - 34s 17ms/step - loss: 0.3806 - accuracy: 0.8792 - val_loss: 0.2834 - val_accuracy: 0.9162\n",
            "Epoch 7/30\n",
            "2013/2013 [==============================] - 33s 16ms/step - loss: 0.3310 - accuracy: 0.8946 - val_loss: 0.2323 - val_accuracy: 0.9304\n",
            "Epoch 8/30\n",
            "2013/2013 [==============================] - 32s 16ms/step - loss: 0.2974 - accuracy: 0.9048 - val_loss: 0.2336 - val_accuracy: 0.9305\n",
            "Epoch 9/30\n",
            "2013/2013 [==============================] - 32s 16ms/step - loss: 0.2688 - accuracy: 0.9133 - val_loss: 0.2201 - val_accuracy: 0.9300\n",
            "Epoch 10/30\n",
            "2013/2013 [==============================] - 37s 18ms/step - loss: 0.2403 - accuracy: 0.9219 - val_loss: 0.1767 - val_accuracy: 0.9429\n",
            "Epoch 11/30\n",
            "2013/2013 [==============================] - 35s 17ms/step - loss: 0.2241 - accuracy: 0.9274 - val_loss: 0.1676 - val_accuracy: 0.9461\n",
            "Epoch 12/30\n",
            "2013/2013 [==============================] - 35s 17ms/step - loss: 0.2031 - accuracy: 0.9345 - val_loss: 0.1455 - val_accuracy: 0.9566\n",
            "Epoch 13/30\n",
            "2013/2013 [==============================] - 33s 17ms/step - loss: 0.1976 - accuracy: 0.9363 - val_loss: 0.2264 - val_accuracy: 0.9221\n",
            "Epoch 14/30\n",
            "2013/2013 [==============================] - 36s 18ms/step - loss: 0.1831 - accuracy: 0.9401 - val_loss: 0.1327 - val_accuracy: 0.9582\n",
            "Epoch 15/30\n",
            "2013/2013 [==============================] - 35s 17ms/step - loss: 0.1749 - accuracy: 0.9434 - val_loss: 0.1486 - val_accuracy: 0.9523\n",
            "Epoch 16/30\n",
            "2013/2013 [==============================] - 34s 17ms/step - loss: 0.1612 - accuracy: 0.9480 - val_loss: 0.1556 - val_accuracy: 0.9457\n",
            "Epoch 17/30\n",
            "2013/2013 [==============================] - 35s 17ms/step - loss: 0.1546 - accuracy: 0.9503 - val_loss: 0.1088 - val_accuracy: 0.9638\n",
            "Epoch 18/30\n",
            "2013/2013 [==============================] - 34s 17ms/step - loss: 0.1448 - accuracy: 0.9538 - val_loss: 0.1200 - val_accuracy: 0.9630\n",
            "Epoch 19/30\n",
            "2013/2013 [==============================] - 34s 17ms/step - loss: 0.1424 - accuracy: 0.9529 - val_loss: 0.1147 - val_accuracy: 0.9639\n",
            "Epoch 20/30\n",
            "2013/2013 [==============================] - 35s 17ms/step - loss: 0.1343 - accuracy: 0.9564 - val_loss: 0.0993 - val_accuracy: 0.9675\n",
            "Epoch 21/30\n",
            "2013/2013 [==============================] - 33s 16ms/step - loss: 0.1309 - accuracy: 0.9578 - val_loss: 0.1035 - val_accuracy: 0.9646\n",
            "Epoch 22/30\n",
            "2013/2013 [==============================] - 33s 16ms/step - loss: 0.1237 - accuracy: 0.9598 - val_loss: 0.0755 - val_accuracy: 0.9768\n",
            "Epoch 23/30\n",
            "2013/2013 [==============================] - 33s 16ms/step - loss: 0.1218 - accuracy: 0.9607 - val_loss: 0.1109 - val_accuracy: 0.9632\n",
            "Epoch 24/30\n",
            "2013/2013 [==============================] - 34s 17ms/step - loss: 0.1135 - accuracy: 0.9629 - val_loss: 0.1451 - val_accuracy: 0.9507\n",
            "Epoch 25/30\n",
            "2013/2013 [==============================] - 35s 17ms/step - loss: 0.1085 - accuracy: 0.9638 - val_loss: 0.0783 - val_accuracy: 0.9741\n",
            "Epoch 26/30\n",
            "2013/2013 [==============================] - 35s 17ms/step - loss: 0.1099 - accuracy: 0.9643 - val_loss: 0.0714 - val_accuracy: 0.9770\n",
            "Epoch 27/30\n",
            "2013/2013 [==============================] - 35s 17ms/step - loss: 0.1049 - accuracy: 0.9660 - val_loss: 0.0894 - val_accuracy: 0.9718\n",
            "Epoch 28/30\n",
            "2013/2013 [==============================] - 34s 17ms/step - loss: 0.1021 - accuracy: 0.9666 - val_loss: 0.0874 - val_accuracy: 0.9711\n",
            "Epoch 29/30\n",
            "2013/2013 [==============================] - 32s 16ms/step - loss: 0.0932 - accuracy: 0.9692 - val_loss: 0.0694 - val_accuracy: 0.9736\n",
            "Epoch 30/30\n",
            "2013/2013 [==============================] - 33s 16ms/step - loss: 0.0916 - accuracy: 0.9702 - val_loss: 0.0832 - val_accuracy: 0.9714\n"
          ],
          "name": "stdout"
        }
      ]
    },
    {
      "cell_type": "markdown",
      "metadata": {
        "id": "Pjb4FMXkpqzX"
      },
      "source": [
        "That looks promising!\n",
        "\n",
        "Checking the graph, it seems like the loss and accuracy have converged, so we can go on to testing"
      ]
    },
    {
      "cell_type": "code",
      "metadata": {
        "id": "zv7YTNkqTbMv",
        "colab": {
          "base_uri": "https://localhost:8080/",
          "height": 324
        },
        "outputId": "68030533-d693-4f2c-f447-98c25e1555ee"
      },
      "source": [
        "pd.DataFrame(history.history).plot(figsize=(8, 5))\n",
        "plt.grid(True)\n",
        "plt.gca().set_ylim(0, 1)\n",
        "plt.show()"
      ],
      "execution_count": null,
      "outputs": [
        {
          "output_type": "display_data",
          "data": {
            "image/png": "[encoded data removed]",
            "text/plain": [
              "<Figure size 576x360 with 1 Axes>"
            ]
          },
          "metadata": {
            "tags": [],
            "needs_background": "light"
          }
        }
      ]
    },
    {
      "cell_type": "markdown",
      "metadata": {
        "id": "IcRLDKDDvIsf"
      },
      "source": [
        "# Testing"
      ]
    },
    {
      "cell_type": "markdown",
      "metadata": {
        "id": "gIHuRFNIvaAy"
      },
      "source": [
        "I think for this I will start by predicting the classes for all of my test data. Then I'll iterate over the results against the labels manually and keep track of how many the NN got right. "
      ]
    },
    {
      "cell_type": "code",
      "metadata": {
        "colab": {
          "base_uri": "https://localhost:8080/"
        },
        "id": "GzPqU_43vPkg",
        "outputId": "17acea51-bf3f-4f11-934e-20de34fd8918"
      },
      "source": [
        "#I would use model.predict_classes here, but it deprecated and Keras suggests I\n",
        "#do this instead\n",
        "\n",
        "y_pred = np.argmax(model.predict(x_test), axis=-1)\n",
        "y_pred"
      ],
      "execution_count": null,
      "outputs": [
        {
          "output_type": "execute_result",
          "data": {
            "text/plain": [
              "array([17,  8, 10, ..., 15, 16, 22])"
            ]
          },
          "metadata": {
            "tags": []
          },
          "execution_count": 15
        }
      ]
    },
    {
      "cell_type": "code",
      "metadata": {
        "id": "9mSsaIuPz6BD"
      },
      "source": [
        "total = 0\n",
        "correct = 0\n",
        "for i in range(0, len(y_test)):\n",
        "  total += 1\n",
        "\n",
        "  if (y_pred[i] == y_test[i]):\n",
        "    correct += 1"
      ],
      "execution_count": null,
      "outputs": []
    },
    {
      "cell_type": "code",
      "metadata": {
        "id": "C1VqlZ0L0IxO",
        "colab": {
          "base_uri": "https://localhost:8080/"
        },
        "outputId": "30709670-bb8c-4e6a-bd82-8aa21d2bd9a5"
      },
      "source": [
        "print(\"Accuracy: \", correct / total)"
      ],
      "execution_count": null,
      "outputs": [
        {
          "output_type": "stream",
          "text": [
            "Accuracy:  0.9724117647058823\n"
          ],
          "name": "stdout"
        }
      ]
    },
    {
      "cell_type": "markdown",
      "metadata": {
        "id": "-b9LSADQKxfj"
      },
      "source": [
        "I want to show some of the images and their results, so I am going to grab 25 images from the set, their actual label, and their predicted label, and display them in bulk"
      ]
    },
    {
      "cell_type": "code",
      "metadata": {
        "colab": {
          "base_uri": "https://localhost:8080/",
          "height": 1000
        },
        "id": "H9Fc2KsJKs84",
        "outputId": "eff4a8cf-b595-4d9b-8ae6-920ccc70fa6e"
      },
      "source": [
        "for i in range(0, 10):\n",
        "  plot_sign(x_test[i], y_test[i])\n",
        "  print(\"Pred : \", class_names[y_pred[i]])"
      ],
      "execution_count": null,
      "outputs": [
        {
          "output_type": "display_data",
          "data": {
            "image/png": "[encoded data removed]",
            "text/plain": [
              "<Figure size 432x288 with 1 Axes>"
            ]
          },
          "metadata": {
            "tags": [],
            "needs_background": "light"
          }
        },
        {
          "output_type": "stream",
          "text": [
            "Label:  R\n",
            "Pred :  R\n"
          ],
          "name": "stdout"
        },
        {
          "output_type": "display_data",
          "data": {
            "image/png": "[encoded data removed]",
            "text/plain": [
              "<Figure size 432x288 with 1 Axes>"
            ]
          },
          "metadata": {
            "tags": [],
            "needs_background": "light"
          }
        },
        {
          "output_type": "stream",
          "text": [
            "Label:  I\n",
            "Pred :  I\n"
          ],
          "name": "stdout"
        },
        {
          "output_type": "display_data",
          "data": {
            "image/png": "[encoded data removed]",
            "text/plain": [
              "<Figure size 432x288 with 1 Axes>"
            ]
          },
          "metadata": {
            "tags": [],
            "needs_background": "light"
          }
        },
        {
          "output_type": "stream",
          "text": [
            "Label:  K\n",
            "Pred :  K\n"
          ],
          "name": "stdout"
        },
        {
          "output_type": "display_data",
          "data": {
            "image/png": "[encoded data removed]",
            "text/plain": [
              "<Figure size 432x288 with 1 Axes>"
            ]
          },
          "metadata": {
            "tags": [],
            "needs_background": "light"
          }
        },
        {
          "output_type": "stream",
          "text": [
            "Label:  space\n",
            "Pred :  space\n"
          ],
          "name": "stdout"
        },
        {
          "output_type": "display_data",
          "data": {
            "image/png": "[encoded data removed]",
            "text/plain": [
              "<Figure size 432x288 with 1 Axes>"
            ]
          },
          "metadata": {
            "tags": [],
            "needs_background": "light"
          }
        },
        {
          "output_type": "stream",
          "text": [
            "Label:  P\n",
            "Pred :  P\n"
          ],
          "name": "stdout"
        },
        {
          "output_type": "display_data",
          "data": {
            "image/png": "[encoded data removed]",
            "text/plain": [
              "<Figure size 432x288 with 1 Axes>"
            ]
          },
          "metadata": {
            "tags": [],
            "needs_background": "light"
          }
        },
        {
          "output_type": "stream",
          "text": [
            "Label:  L\n",
            "Pred :  L\n"
          ],
          "name": "stdout"
        },
        {
          "output_type": "display_data",
          "data": {
            "image/png": "[encoded data removed]",
            "text/plain": [
              "<Figure size 432x288 with 1 Axes>"
            ]
          },
          "metadata": {
            "tags": [],
            "needs_background": "light"
          }
        },
        {
          "output_type": "stream",
          "text": [
            "Label:  F\n",
            "Pred :  F\n"
          ],
          "name": "stdout"
        },
        {
          "output_type": "display_data",
          "data": {
            "image/png": "[encoded data removed]",
            "text/plain": [
              "<Figure size 432x288 with 1 Axes>"
            ]
          },
          "metadata": {
            "tags": [],
            "needs_background": "light"
          }
        },
        {
          "output_type": "stream",
          "text": [
            "Label:  X\n",
            "Pred :  X\n"
          ],
          "name": "stdout"
        },
        {
          "output_type": "display_data",
          "data": {
            "image/png": "[encoded data removed]",
            "text/plain": [
              "<Figure size 432x288 with 1 Axes>"
            ]
          },
          "metadata": {
            "tags": [],
            "needs_background": "light"
          }
        },
        {
          "output_type": "stream",
          "text": [
            "Label:  A\n",
            "Pred :  A\n"
          ],
          "name": "stdout"
        },
        {
          "output_type": "display_data",
          "data": {
            "image/png": "[encoded data removed]",
            "text/plain": [
              "<Figure size 432x288 with 1 Axes>"
            ]
          },
          "metadata": {
            "tags": [],
            "needs_background": "light"
          }
        },
        {
          "output_type": "stream",
          "text": [
            "Label:  N\n",
            "Pred :  N\n"
          ],
          "name": "stdout"
        }
      ]
    }
  ]
}